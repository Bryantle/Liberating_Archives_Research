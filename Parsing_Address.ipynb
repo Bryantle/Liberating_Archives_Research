{
 "cells": [
  {
   "cell_type": "code",
   "execution_count": 1,
   "metadata": {
    "collapsed": true
   },
   "outputs": [],
   "source": [
    "import glob\n",
    "import csv\n",
    "import re \n",
    "from bs4 import BeautifulSoup\n",
    "import pandas as pd\n"
   ]
  },
  {
   "cell_type": "markdown",
   "metadata": {},
   "source": [
    "* **Administration**\n",
    "* **Date**\n",
    "* **Note**\n",
    "* **Categories**\n",
    "* **Locations**\n",
    "* **Names**\n",
    "* **Subjects**\n",
    "* **DCPD Number**\n"
   ]
  },
  {
   "cell_type": "code",
   "execution_count": 2,
   "metadata": {
    "scrolled": false
   },
   "outputs": [],
   "source": [
    "file_name =  './letter_sample_xml_files/address/address1.xml'\n",
    "with open(file_name, \"r\") as f:\n",
    "    text = f.read()\n"
   ]
  },
  {
   "cell_type": "markdown",
   "metadata": {},
   "source": [
    "## Administration --> Only Borrowed From Pooja"
   ]
  },
  {
   "cell_type": "code",
   "execution_count": 3,
   "metadata": {},
   "outputs": [
    {
     "data": {
      "text/plain": [
       "'Donald J. Trump'"
      ]
     },
     "execution_count": 3,
     "metadata": {},
     "output_type": "execute_result"
    }
   ],
   "source": [
    "presidents = ['\"GWB\"', '\"BHO\"', '\"DJT\"', '\"WJC\"']\n",
    "name = ['George W. Bush', 'Barack H. Obama', 'Donald J. Trump', 'William J. Clinton']\n",
    "parties = ['\"R\"', '\"D\"' ]\n",
    "party_name = ['Republican', 'Democrat']\n",
    "\n",
    "def president(txt):\n",
    "    pres = re.findall('(?<=president id=).*\\w\\S', txt)\n",
    "    x = pres[0].split()\n",
    "    for president in presidents: \n",
    "        if president in x: \n",
    "            return name[presidents.index(president)]\n",
    "president(text)"
   ]
  },
  {
   "cell_type": "markdown",
   "metadata": {},
   "source": [
    "## Date"
   ]
  },
  {
   "cell_type": "code",
   "execution_count": 4,
   "metadata": {},
   "outputs": [
    {
     "data": {
      "text/plain": [
       "'2018-01-04'"
      ]
     },
     "execution_count": 4,
     "metadata": {},
     "output_type": "execute_result"
    }
   ],
   "source": [
    "def date(txt):\n",
    "    date_issued = re.findall(r'<dateIssued .*>(.+?)<\\/dateIssued>',txt)\n",
    "    return date_issued[0]\n",
    "date(text)"
   ]
  },
  {
   "cell_type": "markdown",
   "metadata": {},
   "source": [
    "## Note "
   ]
  },
  {
   "cell_type": "code",
   "execution_count": 5,
   "metadata": {},
   "outputs": [
    {
     "data": {
      "text/plain": [
       "'The President spoke at 11:34 a.m. in the Roosevelt Room at the White House. In his remarks, he referred to Stephen \"Michael\" Garland, a U.S. Customs and Border Patrol agent who was injured in an ambush attack in Van Horn, TX, on November 18; White House Chief of Staff John F. Kelly, in his former capacity as Secretary of Homeland Security. Sen. Graham referred to former Presidents Barrack Obama and George W. Bush.'"
      ]
     },
     "execution_count": 5,
     "metadata": {},
     "output_type": "execute_result"
    }
   ],
   "source": [
    "def note(txt):\n",
    "    #notes = re.findall(r'<note>(.+?)<\\/note>',txt)\n",
    "    #notes2 =re.sub(\"&quot;\",\"'\", str(notes)) \n",
    "    soup = BeautifulSoup(txt, 'xml')\n",
    "    tags = soup.find('notes')\n",
    "    soup2 = BeautifulSoup(str(tags), 'xml')\n",
    "    return soup2.text\n",
    "note(text)"
   ]
  },
  {
   "cell_type": "markdown",
   "metadata": {},
   "source": [
    "## Categories "
   ]
  },
  {
   "cell_type": "code",
   "execution_count": 6,
   "metadata": {},
   "outputs": [
    {
     "data": {
      "text/plain": [
       "' Addresses and Remarks Immigration reform, meeting with Republican Senators '"
      ]
     },
     "execution_count": 6,
     "metadata": {},
     "output_type": "execute_result"
    }
   ],
   "source": [
    "def categories(txt): \n",
    "    soup = BeautifulSoup(txt, 'xml')\n",
    "    tags = [a for a in (td.find('dcpdCategory') for td in soup.findAll('extension')) if a]\n",
    "    if (tags == []):\n",
    "        tags = [a for a in (td.find('category1') for td in soup.findAll('extension')) if a]\n",
    "        tags = BeautifulSoup(str(tags[0]),'xml')\n",
    "        return  re.sub('\\n',' ',tags.text)\n",
    "    else:\n",
    "        tags = BeautifulSoup(str(tags[0]),'xml')\n",
    "        return re.sub('\\n',' ', tags.text)\n",
    "\n",
    "categories(text)"
   ]
  },
  {
   "cell_type": "markdown",
   "metadata": {},
   "source": [
    "## Locations "
   ]
  },
  {
   "cell_type": "code",
   "execution_count": 7,
   "metadata": {},
   "outputs": [
    {
     "data": {
      "text/plain": [
       "'Washington, DC'"
      ]
     },
     "execution_count": 7,
     "metadata": {},
     "output_type": "execute_result"
    }
   ],
   "source": [
    "def location(txt): \n",
    "    soup = BeautifulSoup(text, 'xml')\n",
    "    tags = [a for a in (td.find('name') for td in soup.findAll('location')) if a]\n",
    "    tagss = str(tags[0])\n",
    "    tagsss = re.sub('<.?name>','',tagss)\n",
    "    return tagsss\n",
    "location(text)"
   ]
  },
  {
   "cell_type": "markdown",
   "metadata": {},
   "source": [
    "## Names"
   ]
  },
  {
   "cell_type": "code",
   "execution_count": 8,
   "metadata": {},
   "outputs": [
    {
     "data": {
      "text/plain": [
       "['Bannon, Stephen K.',\n",
       " 'Cornyn, John, III',\n",
       " 'Cotton, Thomas B.',\n",
       " 'Garland, Stephen \"Michael\"',\n",
       " 'Graham, Lindsey O.',\n",
       " 'Grassley, Charles E.',\n",
       " 'Kelly, John F.',\n",
       " 'Lankford, James P.',\n",
       " 'Nielsen, Kirstjen M.',\n",
       " 'Pence, Michael R.',\n",
       " 'Perdue, David A., Jr.',\n",
       " 'Tillis, Thomas R.']"
      ]
     },
     "execution_count": 8,
     "metadata": {},
     "output_type": "execute_result"
    }
   ],
   "source": [
    "def names(txt):\n",
    "    soup = BeautifulSoup(txt, 'xml')\n",
    "    tags = [a for a in (td.findAll('namePart') for td in soup.findAll('subject')) if a] \n",
    "    flatten_list = [x for y in tags for x in y]\n",
    "    tags2 = [BeautifulSoup(str(i), \"xml\") for i in flatten_list]\n",
    "    tags2\n",
    "    no_tags = [i.text for i in tags2]\n",
    "    return no_tags\n",
    "\n",
    "names(text)"
   ]
  },
  {
   "cell_type": "markdown",
   "metadata": {},
   "source": [
    "## Subjects"
   ]
  },
  {
   "cell_type": "code",
   "execution_count": 9,
   "metadata": {},
   "outputs": [
    {
     "data": {
      "text/plain": [
       "['Congress:Bipartisanship',\n",
       " 'Congress:Members, meetings with President',\n",
       " 'Drug abuse and trafficking:Illegal drugs, interdiction efforts',\n",
       " 'Drug abuse and trafficking:Opioid epidemic, efforts to combat',\n",
       " 'Economy, national:Improvement',\n",
       " 'Homeland Security, Department of:Customs and Border Protection, U.S',\n",
       " 'Homeland Security, Department of:Immigration and Customs Enforcement, U.S',\n",
       " 'Homeland Security, Department of:Secretary',\n",
       " 'Immigration and naturalization:Deferred Action for Childhood Arrivals (DACA) policy, review',\n",
       " 'Immigration and naturalization:Illegal immigration',\n",
       " 'Immigration and naturalization:Reform',\n",
       " 'Legislation, enacted:Tax reform legislation',\n",
       " 'Mexico:Border with U.S., infrastructure and security',\n",
       " 'New York:New York City::Terrorist attacks',\n",
       " 'White House Office:Assistants to the President::Chief of Staff',\n",
       " 'White House Office:Vice President']"
      ]
     },
     "execution_count": 9,
     "metadata": {},
     "output_type": "execute_result"
    }
   ],
   "source": [
    "def subjects(txt):\n",
    "    soup = BeautifulSoup(txt, 'xml')\n",
    "    tags = [a for a in (td.findAll('topic') for td in soup.findAll('subject')) if a] \n",
    "    flatten_list = [x for y in tags for x in y]\n",
    "    tags2 = [BeautifulSoup(str(i), \"xml\") for i in flatten_list]\n",
    "    tags2\n",
    "    no_tags = [i.text for i in tags2]\n",
    "    return no_tags\n",
    "\n",
    "subjects(text)"
   ]
  },
  {
   "cell_type": "markdown",
   "metadata": {},
   "source": [
    "## DCPD "
   ]
  },
  {
   "cell_type": "code",
   "execution_count": 10,
   "metadata": {},
   "outputs": [
    {
     "data": {
      "text/plain": [
       "'201800006'"
      ]
     },
     "execution_count": 10,
     "metadata": {},
     "output_type": "execute_result"
    }
   ],
   "source": [
    "def dcpd(txt) :\n",
    "    dcpd = re.findall(r'<accessId>(.+?)</accessId>',txt)#re.findall(r'Administration of .*',text)\n",
    "    dcpd2 =  re.sub(\"\\D\", \"\", dcpd[0])\n",
    "    return dcpd2\n",
    "dcpd(text)"
   ]
  },
  {
   "cell_type": "markdown",
   "metadata": {},
   "source": [
    "# Convert list of values into CSV Format"
   ]
  },
  {
   "cell_type": "code",
   "execution_count": 11,
   "metadata": {},
   "outputs": [],
   "source": [
    "president_name = []\n",
    "dates  = [] \n",
    "notes = []\n",
    "category = []\n",
    "locations = []\n",
    "list_names = []\n",
    "subject = []\n",
    "dcpds = []\n",
    "\n",
    "files = glob.glob('./letter_sample_xml_files/address/*.xml')\n",
    "header = [\"President Name\", \"Date\", \"Notes\",\"Categories\", \"Location\", \"Names\",\"Subjects\", \"DPCD #\"]\n",
    "\n",
    "for fle in files:\n",
    " ###### open the file and then call .read() to get the text \n",
    "    with open(fle) as f:\n",
    "        txt = f.read()\n",
    "        president_name.append(president(txt))\n",
    "        dates.append(date(txt))\n",
    "        notes.append(note(txt))\n",
    "        category.append(categories(txt))\n",
    "        locations.append(location(txt))\n",
    "        list_names.extend(names(txt))\n",
    "        subject.extend(subjects(txt))\n",
    "        dcpds.append(dcpd(txt))\n",
    "\n",
    "rows = zip(president_name,dates,notes,category,locations,list_names,subject,dcpds)\n",
    "with open('./letter_sample_xml_files/address/address1.csv', \"w\") as f:\n",
    "    writer = csv.writer(f)\n",
    "    for row in rows:\n",
    "        writer.writerow(row)\n",
    "\n",
    "df= pd.read_csv('./letter_sample_xml_files/address/address1.csv',names=header)\n"
   ]
  },
  {
   "cell_type": "code",
   "execution_count": 12,
   "metadata": {},
   "outputs": [
    {
     "data": {
      "text/html": [
       "<div>\n",
       "<style>\n",
       "    .dataframe thead tr:only-child th {\n",
       "        text-align: right;\n",
       "    }\n",
       "\n",
       "    .dataframe thead th {\n",
       "        text-align: left;\n",
       "    }\n",
       "\n",
       "    .dataframe tbody tr th {\n",
       "        vertical-align: top;\n",
       "    }\n",
       "</style>\n",
       "<table border=\"1\" class=\"dataframe\">\n",
       "  <thead>\n",
       "    <tr style=\"text-align: right;\">\n",
       "      <th></th>\n",
       "      <th>President Name</th>\n",
       "      <th>Date</th>\n",
       "      <th>Notes</th>\n",
       "      <th>Categories</th>\n",
       "      <th>Location</th>\n",
       "      <th>Names</th>\n",
       "      <th>Subjects</th>\n",
       "      <th>DPCD #</th>\n",
       "    </tr>\n",
       "  </thead>\n",
       "  <tbody>\n",
       "    <tr>\n",
       "      <th>0</th>\n",
       "      <td>Donald J. Trump</td>\n",
       "      <td>2018-01-04</td>\n",
       "      <td>The President spoke at 11:34 a.m. in the Roose...</td>\n",
       "      <td>Addresses and Remarks Immigration reform, mee...</td>\n",
       "      <td>Washington, DC</td>\n",
       "      <td>Bannon, Stephen K.</td>\n",
       "      <td>Congress:Bipartisanship</td>\n",
       "      <td>201800006</td>\n",
       "    </tr>\n",
       "    <tr>\n",
       "      <th>1</th>\n",
       "      <td>Barack H. Obama</td>\n",
       "      <td>2014-01-04</td>\n",
       "      <td>NaN</td>\n",
       "      <td>Addresses and Remarks Weekly addresses</td>\n",
       "      <td>Washington, DC</td>\n",
       "      <td>Cornyn, John, III</td>\n",
       "      <td>Congress:Members, meetings with President</td>\n",
       "      <td>201400002</td>\n",
       "    </tr>\n",
       "    <tr>\n",
       "      <th>2</th>\n",
       "      <td>George W. Bush</td>\n",
       "      <td>2009-01-12</td>\n",
       "      <td>The address was recorded at 10 a.m. on January...</td>\n",
       "      <td>Addresses and Remarks</td>\n",
       "      <td>Washington, DC</td>\n",
       "      <td>Cotton, Thomas B.</td>\n",
       "      <td>Drug abuse and trafficking:Illegal drugs, inte...</td>\n",
       "      <td>200901121</td>\n",
       "    </tr>\n",
       "    <tr>\n",
       "      <th>3</th>\n",
       "      <td>William J. Clinton</td>\n",
       "      <td>1994-01-10</td>\n",
       "      <td>The address was recorded at 3:15 p.m. on Decem...</td>\n",
       "      <td>Addresses and Remarks</td>\n",
       "      <td>Washington, DC</td>\n",
       "      <td>Garland, Stephen \"Michael\"</td>\n",
       "      <td>Drug abuse and trafficking:Opioid epidemic, ef...</td>\n",
       "      <td>1994011012</td>\n",
       "    </tr>\n",
       "  </tbody>\n",
       "</table>\n",
       "</div>"
      ],
      "text/plain": [
       "       President Name        Date  \\\n",
       "0     Donald J. Trump  2018-01-04   \n",
       "1     Barack H. Obama  2014-01-04   \n",
       "2      George W. Bush  2009-01-12   \n",
       "3  William J. Clinton  1994-01-10   \n",
       "\n",
       "                                               Notes  \\\n",
       "0  The President spoke at 11:34 a.m. in the Roose...   \n",
       "1                                                NaN   \n",
       "2  The address was recorded at 10 a.m. on January...   \n",
       "3  The address was recorded at 3:15 p.m. on Decem...   \n",
       "\n",
       "                                          Categories        Location  \\\n",
       "0   Addresses and Remarks Immigration reform, mee...  Washington, DC   \n",
       "1            Addresses and Remarks Weekly addresses   Washington, DC   \n",
       "2                              Addresses and Remarks  Washington, DC   \n",
       "3                              Addresses and Remarks  Washington, DC   \n",
       "\n",
       "                        Names  \\\n",
       "0          Bannon, Stephen K.   \n",
       "1           Cornyn, John, III   \n",
       "2           Cotton, Thomas B.   \n",
       "3  Garland, Stephen \"Michael\"   \n",
       "\n",
       "                                            Subjects      DPCD #  \n",
       "0                            Congress:Bipartisanship   201800006  \n",
       "1          Congress:Members, meetings with President   201400002  \n",
       "2  Drug abuse and trafficking:Illegal drugs, inte...   200901121  \n",
       "3  Drug abuse and trafficking:Opioid epidemic, ef...  1994011012  "
      ]
     },
     "execution_count": 12,
     "metadata": {},
     "output_type": "execute_result"
    }
   ],
   "source": [
    "df"
   ]
  }
 ],
 "metadata": {
  "kernelspec": {
   "display_name": "Python 3",
   "language": "python",
   "name": "python3"
  },
  "language_info": {
   "codemirror_mode": {
    "name": "ipython",
    "version": 3
   },
   "file_extension": ".py",
   "mimetype": "text/x-python",
   "name": "python",
   "nbconvert_exporter": "python",
   "pygments_lexer": "ipython3",
   "version": "3.6.3"
  }
 },
 "nbformat": 4,
 "nbformat_minor": 2
}
