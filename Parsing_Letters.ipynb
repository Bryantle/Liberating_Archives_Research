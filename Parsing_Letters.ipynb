{
 "cells": [
  {
   "cell_type": "markdown",
   "metadata": {},
   "source": [
    "## Functions to generalise findings. "
   ]
  },
  {
   "cell_type": "code",
   "execution_count": 1,
   "metadata": {
    "collapsed": true
   },
   "outputs": [],
   "source": [
    "import glob\n",
    "import csv\n",
    "import re \n",
    "from bs4 import BeautifulSoup\n",
    "import pandas as pd\n",
    "\n"
   ]
  },
  {
   "cell_type": "code",
   "execution_count": 28,
   "metadata": {
    "scrolled": false
   },
   "outputs": [],
   "source": [
    "file_name =  './letter_sample_xml_files/letter1.xml'#./file/letter1.txt' #'./file/test1.txt'\n",
    "with open(file_name, \"r\") as f:\n",
    "    text = f.read()"
   ]
  },
  {
   "cell_type": "markdown",
   "metadata": {},
   "source": [
    "# First Test Run --> President Donald J. Trump "
   ]
  },
  {
   "cell_type": "markdown",
   "metadata": {},
   "source": [
    "##  Administration: Who is the president? (XML file) --> Only borrowed this from Pooja"
   ]
  },
  {
   "cell_type": "code",
   "execution_count": 32,
   "metadata": {},
   "outputs": [
    {
     "data": {
      "text/plain": [
       "'Donald J. Trump'"
      ]
     },
     "execution_count": 32,
     "metadata": {},
     "output_type": "execute_result"
    }
   ],
   "source": [
    "presidents = ['\"GWB\"', '\"BHO\"', '\"DJT\"', '\"WJC\"']\n",
    "names = ['George W. Bush', 'Barack H. Obama', 'Donald J. Trump', 'William J. Clinton']\n",
    "parties = ['\"R\"', '\"D\"' ]\n",
    "party_name = ['Republican', 'Democrat']\n",
    "\n",
    "def president(txt):\n",
    "    pres = re.findall('(?<=president id=).*\\w\\S', txt)\n",
    "    x = pres[0].split()\n",
    "    for president in presidents: \n",
    "        if president in x: \n",
    "            return names[presidents.index(president)]\n",
    "\n",
    "president(text)"
   ]
  },
  {
   "cell_type": "markdown",
   "metadata": {},
   "source": [
    "## Date of Letter "
   ]
  },
  {
   "cell_type": "code",
   "execution_count": 4,
   "metadata": {},
   "outputs": [
    {
     "data": {
      "text/plain": [
       "'2018-01-23'"
      ]
     },
     "execution_count": 4,
     "metadata": {},
     "output_type": "execute_result"
    }
   ],
   "source": [
    "def date(txt):\n",
    "    date_issued = re.findall(r'<dateIssued .*>(.+?)<\\/dateIssued>',txt)\n",
    "    return date_issued[0]\n",
    "   \n",
    "date(text)"
   ]
  },
  {
   "cell_type": "markdown",
   "metadata": {},
   "source": [
    "## Title "
   ]
  },
  {
   "cell_type": "code",
   "execution_count": 5,
   "metadata": {},
   "outputs": [
    {
     "data": {
      "text/plain": [
       "'Letter to Congressional Leaders Transmitting Proclamations on Imports of Large Residential Washers and Certain Photovoltaic Cells'"
      ]
     },
     "execution_count": 5,
     "metadata": {},
     "output_type": "execute_result"
    }
   ],
   "source": [
    "def title(txt):\n",
    "    title = re.findall(r'<title>(.+?)<\\/title>',txt)\n",
    "    return title[0]\n",
    "title(text)"
   ]
  },
  {
   "cell_type": "markdown",
   "metadata": {},
   "source": [
    "## DCPD / WCPD Number"
   ]
  },
  {
   "cell_type": "code",
   "execution_count": 6,
   "metadata": {},
   "outputs": [
    {
     "data": {
      "text/plain": [
       "'201800046'"
      ]
     },
     "execution_count": 6,
     "metadata": {},
     "output_type": "execute_result"
    }
   ],
   "source": [
    "def dcpd(txt) :\n",
    "    dcpd = re.findall(r'<accessId>(.+?)</accessId>',txt)#re.findall(r'Administration of .*',text)\n",
    "    dcpd2 =  re.sub(\"\\D\", \"\", dcpd[0])\n",
    "    return dcpd2\n",
    "dcpd(text)"
   ]
  },
  {
   "cell_type": "markdown",
   "metadata": {},
   "source": [
    "## Categories"
   ]
  },
  {
   "cell_type": "code",
   "execution_count": 7,
   "metadata": {},
   "outputs": [
    {
     "data": {
      "text/plain": [
       "' Communications to Congress Residential washers and photovoltaic cells, imports into U.S., letter transmitting proclamations '"
      ]
     },
     "execution_count": 7,
     "metadata": {},
     "output_type": "execute_result"
    }
   ],
   "source": [
    "def categories(txt): \n",
    "    soup = BeautifulSoup(txt, 'xml')\n",
    "    tags = [a for a in (td.find('dcpdCategory') for td in soup.findAll('extension')) if a]\n",
    "    if (tags == []):\n",
    "        tags = [a for a in (td.find('category1') for td in soup.findAll('extension')) if a]\n",
    "        tags = BeautifulSoup(str(tags[0]),'xml')\n",
    "        return  re.sub('\\n',' ',tags.text)\n",
    "    else:\n",
    "        tags = BeautifulSoup(str(tags[0]),'xml')\n",
    "        return re.sub('\\n',' ', tags.text)\n",
    "categories(text)"
   ]
  },
  {
   "cell_type": "markdown",
   "metadata": {
    "collapsed": true
   },
   "source": [
    "# Second Test  --> Run Barack H. Obama"
   ]
  },
  {
   "cell_type": "code",
   "execution_count": 29,
   "metadata": {},
   "outputs": [],
   "source": [
    "file_name2 =  './letter_sample_xml_files/letter2.xml'#./file/letter1.txt' #'./file/test1.txt'\n",
    "with open(file_name2, \"r\") as f:\n",
    "    text2 = f.read()"
   ]
  },
  {
   "cell_type": "markdown",
   "metadata": {},
   "source": [
    "## Administration "
   ]
  },
  {
   "cell_type": "code",
   "execution_count": 9,
   "metadata": {},
   "outputs": [
    {
     "data": {
      "text/plain": [
       "'Barack H. Obama'"
      ]
     },
     "execution_count": 9,
     "metadata": {},
     "output_type": "execute_result"
    }
   ],
   "source": [
    "president(text2)"
   ]
  },
  {
   "cell_type": "markdown",
   "metadata": {},
   "source": [
    "## Date "
   ]
  },
  {
   "cell_type": "code",
   "execution_count": 10,
   "metadata": {},
   "outputs": [
    {
     "data": {
      "text/plain": [
       "'2014-01-17'"
      ]
     },
     "execution_count": 10,
     "metadata": {},
     "output_type": "execute_result"
    }
   ],
   "source": [
    "date(text2)"
   ]
  },
  {
   "cell_type": "markdown",
   "metadata": {},
   "source": [
    "## Title "
   ]
  },
  {
   "cell_type": "code",
   "execution_count": 11,
   "metadata": {},
   "outputs": [
    {
     "data": {
      "text/plain": [
       "'Letter to Congressional Leaders Regarding the Designation of Funds for Overseas Contingency Operations and Global Counterterrorism'"
      ]
     },
     "execution_count": 11,
     "metadata": {},
     "output_type": "execute_result"
    }
   ],
   "source": [
    "title(text2)"
   ]
  },
  {
   "cell_type": "markdown",
   "metadata": {},
   "source": [
    "## DCPD / WCPD"
   ]
  },
  {
   "cell_type": "code",
   "execution_count": 12,
   "metadata": {},
   "outputs": [
    {
     "data": {
      "text/plain": [
       "'201400036'"
      ]
     },
     "execution_count": 12,
     "metadata": {},
     "output_type": "execute_result"
    }
   ],
   "source": [
    "dcpd(text2)"
   ]
  },
  {
   "cell_type": "markdown",
   "metadata": {},
   "source": [
    "## Categories "
   ]
  },
  {
   "cell_type": "code",
   "execution_count": 13,
   "metadata": {},
   "outputs": [
    {
     "data": {
      "text/plain": [
       "' Communications to Congress Global counterterrorism and overseas contingency operations, letter designating funds '"
      ]
     },
     "execution_count": 13,
     "metadata": {},
     "output_type": "execute_result"
    }
   ],
   "source": [
    "categories(text2)"
   ]
  },
  {
   "cell_type": "markdown",
   "metadata": {},
   "source": [
    "# Third Test --> George W. Bush"
   ]
  },
  {
   "cell_type": "code",
   "execution_count": 30,
   "metadata": {},
   "outputs": [],
   "source": [
    "file_name3 =  './letter_sample_xml_files/letter3.xml'#./file/letter1.txt' #'./file/test1.txt'\n",
    "with open(file_name3, \"r\") as f:\n",
    "    text3 = f.read()"
   ]
  },
  {
   "cell_type": "markdown",
   "metadata": {},
   "source": [
    "## Administration"
   ]
  },
  {
   "cell_type": "code",
   "execution_count": 15,
   "metadata": {},
   "outputs": [
    {
     "data": {
      "text/plain": [
       "'George W. Bush'"
      ]
     },
     "execution_count": 15,
     "metadata": {},
     "output_type": "execute_result"
    }
   ],
   "source": [
    "president(text3)"
   ]
  },
  {
   "cell_type": "markdown",
   "metadata": {},
   "source": [
    "## Date "
   ]
  },
  {
   "cell_type": "code",
   "execution_count": 16,
   "metadata": {},
   "outputs": [
    {
     "data": {
      "text/plain": [
       "'2009-01-19'"
      ]
     },
     "execution_count": 16,
     "metadata": {},
     "output_type": "execute_result"
    }
   ],
   "source": [
    "date(text3)"
   ]
  },
  {
   "cell_type": "markdown",
   "metadata": {},
   "source": [
    "## Title "
   ]
  },
  {
   "cell_type": "code",
   "execution_count": 17,
   "metadata": {},
   "outputs": [
    {
     "data": {
      "text/plain": [
       "'Letter to Congressional Leaders on Review of Title III of the Cuban Liberty and Democratic Solidarity (LIBERTAD) Act of 1996'"
      ]
     },
     "execution_count": 17,
     "metadata": {},
     "output_type": "execute_result"
    }
   ],
   "source": [
    "title(text3)"
   ]
  },
  {
   "cell_type": "markdown",
   "metadata": {},
   "source": [
    "## DCPD / WCPD"
   ]
  },
  {
   "cell_type": "code",
   "execution_count": 18,
   "metadata": {},
   "outputs": [
    {
     "data": {
      "text/plain": [
       "'2009011978'"
      ]
     },
     "execution_count": 18,
     "metadata": {},
     "output_type": "execute_result"
    }
   ],
   "source": [
    "dcpd(text3)"
   ]
  },
  {
   "cell_type": "markdown",
   "metadata": {},
   "source": [
    "## Categories "
   ]
  },
  {
   "cell_type": "code",
   "execution_count": 19,
   "metadata": {},
   "outputs": [
    {
     "data": {
      "text/plain": [
       "'Communications to Congress'"
      ]
     },
     "execution_count": 19,
     "metadata": {},
     "output_type": "execute_result"
    }
   ],
   "source": [
    "categories(text3)"
   ]
  },
  {
   "cell_type": "markdown",
   "metadata": {},
   "source": [
    "## Fourth Test --> William J. Clinton"
   ]
  },
  {
   "cell_type": "code",
   "execution_count": 31,
   "metadata": {},
   "outputs": [],
   "source": [
    "file_name4 =  './letter_sample_xml_files/letter4.xml'#./file/letter1.txt' #'./file/test1.txt'\n",
    "with open(file_name4, \"r\") as f:\n",
    "    text4 = f.read()"
   ]
  },
  {
   "cell_type": "markdown",
   "metadata": {},
   "source": [
    "## President "
   ]
  },
  {
   "cell_type": "code",
   "execution_count": 21,
   "metadata": {},
   "outputs": [
    {
     "data": {
      "text/plain": [
       "'William J. Clinton'"
      ]
     },
     "execution_count": 21,
     "metadata": {},
     "output_type": "execute_result"
    }
   ],
   "source": [
    "president(text4)"
   ]
  },
  {
   "cell_type": "markdown",
   "metadata": {},
   "source": [
    "## Date "
   ]
  },
  {
   "cell_type": "code",
   "execution_count": 22,
   "metadata": {},
   "outputs": [
    {
     "data": {
      "text/plain": [
       "'1994-01-10'"
      ]
     },
     "execution_count": 22,
     "metadata": {},
     "output_type": "execute_result"
    }
   ],
   "source": [
    "date(text4)"
   ]
  },
  {
   "cell_type": "markdown",
   "metadata": {},
   "source": [
    "## Title"
   ]
  },
  {
   "cell_type": "code",
   "execution_count": 23,
   "metadata": {},
   "outputs": [
    {
     "data": {
      "text/plain": [
       "'Letter to Congressional Leaders Transmitting a Report on Loan Guarantees to Israel'"
      ]
     },
     "execution_count": 23,
     "metadata": {},
     "output_type": "execute_result"
    }
   ],
   "source": [
    "title(text4)"
   ]
  },
  {
   "cell_type": "markdown",
   "metadata": {},
   "source": [
    "## DCPD/WCPD"
   ]
  },
  {
   "cell_type": "code",
   "execution_count": 24,
   "metadata": {},
   "outputs": [
    {
     "data": {
      "text/plain": [
       "'199401104'"
      ]
     },
     "execution_count": 24,
     "metadata": {},
     "output_type": "execute_result"
    }
   ],
   "source": [
    "dcpd(text4)"
   ]
  },
  {
   "cell_type": "markdown",
   "metadata": {},
   "source": [
    "## Categories"
   ]
  },
  {
   "cell_type": "code",
   "execution_count": 25,
   "metadata": {},
   "outputs": [
    {
     "data": {
      "text/plain": [
       "'Communications to Congress'"
      ]
     },
     "execution_count": 25,
     "metadata": {},
     "output_type": "execute_result"
    }
   ],
   "source": [
    "categories(text4)"
   ]
  },
  {
   "cell_type": "markdown",
   "metadata": {},
   "source": [
    "# Convert list of values into CSV Format"
   ]
  },
  {
   "cell_type": "code",
   "execution_count": 34,
   "metadata": {},
   "outputs": [],
   "source": [
    "files = glob.glob('./letter_sample_xml_files/*.xml')\n",
    "header = [\"President Name\", \"Date\", \"Title\", \"DCPD #\", \"Categories\"]\n",
    "president_name = []\n",
    "dates  = [] \n",
    "titles = [] \n",
    "dcpds = []\n",
    "category = []\n",
    "\n",
    "#######iterate over the list getting each file \n",
    "for fle in files:\n",
    " ###### open the file and then call .read() to get the text \n",
    "    with open(fle) as f:\n",
    "        txt = f.read()\n",
    "        president_name.append(president(txt))\n",
    "        dates.append(date(txt))\n",
    "        titles.append(title(txt))\n",
    "        dcpds.append(dcpd(txt))\n",
    "        category.append(categories(txt))\n",
    "\n",
    "rows = zip(president_name,dates,titles,dcpds, category)\n",
    "with open('./letter_sample_xml_files/letters1.csv', \"w\") as f:\n",
    "    writer = csv.writer(f)\n",
    "    for row in rows:\n",
    "        writer.writerow(row)"
   ]
  },
  {
   "cell_type": "code",
   "execution_count": 36,
   "metadata": {},
   "outputs": [
    {
     "data": {
      "text/html": [
       "<div>\n",
       "<style>\n",
       "    .dataframe thead tr:only-child th {\n",
       "        text-align: right;\n",
       "    }\n",
       "\n",
       "    .dataframe thead th {\n",
       "        text-align: left;\n",
       "    }\n",
       "\n",
       "    .dataframe tbody tr th {\n",
       "        vertical-align: top;\n",
       "    }\n",
       "</style>\n",
       "<table border=\"1\" class=\"dataframe\">\n",
       "  <thead>\n",
       "    <tr style=\"text-align: right;\">\n",
       "      <th></th>\n",
       "      <th>President Name</th>\n",
       "      <th>Date</th>\n",
       "      <th>Title</th>\n",
       "      <th>DCPD #</th>\n",
       "      <th>Categories</th>\n",
       "    </tr>\n",
       "  </thead>\n",
       "  <tbody>\n",
       "    <tr>\n",
       "      <th>0</th>\n",
       "      <td>George W. Bush</td>\n",
       "      <td>2009-01-19</td>\n",
       "      <td>Letter to Congressional Leaders on Review of T...</td>\n",
       "      <td>2009011978</td>\n",
       "      <td>Communications to Congress</td>\n",
       "    </tr>\n",
       "    <tr>\n",
       "      <th>1</th>\n",
       "      <td>Barack H. Obama</td>\n",
       "      <td>2014-01-17</td>\n",
       "      <td>Letter to Congressional Leaders Regarding the ...</td>\n",
       "      <td>201400036</td>\n",
       "      <td>Communications to Congress Global counterterr...</td>\n",
       "    </tr>\n",
       "    <tr>\n",
       "      <th>2</th>\n",
       "      <td>Donald J. Trump</td>\n",
       "      <td>2018-01-23</td>\n",
       "      <td>Letter to Congressional Leaders Transmitting P...</td>\n",
       "      <td>201800046</td>\n",
       "      <td>Communications to Congress Residential washer...</td>\n",
       "    </tr>\n",
       "    <tr>\n",
       "      <th>3</th>\n",
       "      <td>William J. Clinton</td>\n",
       "      <td>1994-01-10</td>\n",
       "      <td>Letter to Congressional Leaders Transmitting a...</td>\n",
       "      <td>199401104</td>\n",
       "      <td>Communications to Congress</td>\n",
       "    </tr>\n",
       "  </tbody>\n",
       "</table>\n",
       "</div>"
      ],
      "text/plain": [
       "       President Name        Date  \\\n",
       "0      George W. Bush  2009-01-19   \n",
       "1     Barack H. Obama  2014-01-17   \n",
       "2     Donald J. Trump  2018-01-23   \n",
       "3  William J. Clinton  1994-01-10   \n",
       "\n",
       "                                               Title      DCPD #  \\\n",
       "0  Letter to Congressional Leaders on Review of T...  2009011978   \n",
       "1  Letter to Congressional Leaders Regarding the ...   201400036   \n",
       "2  Letter to Congressional Leaders Transmitting P...   201800046   \n",
       "3  Letter to Congressional Leaders Transmitting a...   199401104   \n",
       "\n",
       "                                          Categories  \n",
       "0                         Communications to Congress  \n",
       "1   Communications to Congress Global counterterr...  \n",
       "2   Communications to Congress Residential washer...  \n",
       "3                         Communications to Congress  "
      ]
     },
     "execution_count": 36,
     "metadata": {},
     "output_type": "execute_result"
    }
   ],
   "source": [
    "df= pd.read_csv('./letter_sample_xml_files/letters1.csv',names=header)\n",
    "df"
   ]
  }
 ],
 "metadata": {
  "kernelspec": {
   "display_name": "Python 3",
   "language": "python",
   "name": "python3"
  },
  "language_info": {
   "codemirror_mode": {
    "name": "ipython",
    "version": 3
   },
   "file_extension": ".py",
   "mimetype": "text/x-python",
   "name": "python",
   "nbconvert_exporter": "python",
   "pygments_lexer": "ipython3",
   "version": "3.6.3"
  }
 },
 "nbformat": 4,
 "nbformat_minor": 2
}
