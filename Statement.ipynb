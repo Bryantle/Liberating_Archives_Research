{
 "cells": [
  {
   "cell_type": "code",
   "execution_count": 1,
   "metadata": {
    "collapsed": true
   },
   "outputs": [],
   "source": [
    "import pandas\n",
    "import urllib\n",
    "from selenium import webdriver\n",
    "from time import sleep\n",
    "import re\n",
    "import os.path\n",
    "import io\n",
    "from bs4 import BeautifulSoup"
   ]
  },
  {
   "cell_type": "code",
   "execution_count": 63,
   "metadata": {},
   "outputs": [
    {
     "name": "stdout",
     "output_type": "stream",
     "text": [
      "<?xml version=\"1.0\" encoding=\"UTF-8\"?><mods xmlns:xlink=\"http://www.w3.org/1999/xlink\" xmlns:exslt=\"http://exslt.org/common\" xmlns:xsi=\"http://www.w3.org/2001/XMLSchema-instance\" xmlns=\"http://www.loc.gov/mods/v3\" version=\"3.3\" xsi:schemaLocation=\"http://www.loc.gov/mods/v3 http://www.loc.gov/standards/mods/v3/mods-3-3.xsd\" ID=\"id-WCPD-1998-09-07-Pg1683\">\n",
      "<name type=\"corporate\">\n",
      "<namePart>United States Government Publishing Office</namePart>\n",
      "<role>\n",
      "<roleTerm authority=\"marcrelator\" type=\"text\">publisher</roleTerm>\n",
      "<roleTerm authority=\"marcrelator\" type=\"code\">pbl</roleTerm>\n",
      "</role>\n",
      "<role>\n",
      "<roleTerm authority=\"marcrelator\" type=\"text\">distributor</roleTerm>\n",
      "<roleTerm authority=\"marcrelator\" type=\"code\">dst</roleTerm>\n",
      "</role>\n",
      "</name>\n",
      "<name type=\"corporate\">\n",
      "<namePart>United States</namePart>\n",
      "<namePart>National Archives and Records Administration</namePart>\n",
      "<namePart>Office of the Federal Register</namePart>\n",
      "<role>\n",
      "<roleTerm authority=\"marcrelator\" type=\"text\">author</roleTerm>\n",
      "<roleTerm authority=\"marcrelator\" type=\"code\">aut</roleTerm>\n",
      "</role>\n",
      "<description>Government Organization</description>\n",
      "</name>\n",
      "<name type=\"corporate\">\n",
      "<namePart>United States</namePart>\n",
      "<namePart>Executive Office of the President</namePart>\n",
      "<role>\n",
      "<roleTerm authority=\"marcrelator\" type=\"text\">author</roleTerm>\n",
      "<roleTerm authority=\"marcrelator\" type=\"code\">aut</roleTerm>\n",
      "</role>\n",
      "<description>United States Government Agency</description>\n",
      "</name>\n",
      "<typeOfResource>text</typeOfResource>\n",
      "<genre authority=\"marcgt\">government publication</genre>\n",
      "<language>\n",
      "<languageTerm type=\"code\" authority=\"iso639-2b\">eng</languageTerm>\n",
      "</language>\n",
      "<extension>\n",
      "<collectionCode>WCPD</collectionCode>\n",
      "<category>Budget and Presidential Materials</category>\n",
      "<waisDatabaseName>1998_presidential_documents</waisDatabaseName>\n",
      "<branch>executive</branch>\n",
      "<dateIngested>2010-08-03</dateIngested>\n",
      "</extension>\n",
      "<name type=\"personal\">\n",
      "<namePart>William J. Clinton</namePart>\n",
      "<role>\n",
      "<roleTerm authority=\"marcrelator\" type=\"text\">author</roleTerm>\n",
      "<roleTerm authority=\"marcrelator\" type=\"code\">aut</roleTerm>\n",
      "</role>\n",
      "<description>President of the United States</description>\n",
      "</name>\n",
      "<genre authority=\"marcgt\">article</genre>\n",
      "<titleInfo>\n",
      "<title>Statement on the Northern Ireland Peace Process</title>\n",
      "</titleInfo>\n",
      "<relatedItem type=\"otherFormat\" xlink:href=\"https://www.gpo.gov/fdsys/pkg/WCPD-1998-09-07/html/WCPD-1998-09-07-Pg1683.htm\">\n",
      "<identifier type=\"FDsys Unique ID\">D09002ee195a0b2ab</identifier>\n",
      "</relatedItem>\n",
      "<relatedItem type=\"otherFormat\" xlink:href=\"https://www.gpo.gov/fdsys/pkg/WCPD-1998-09-07/pdf/WCPD-1998-09-07-Pg1683.pdf\">\n",
      "<identifier type=\"FDsys Unique ID\">D09002ee195a0b335</identifier>\n",
      "</relatedItem>\n",
      "<identifier type=\"WCPD citation\">34 WCPD 1683</identifier>\n",
      "<identifier type=\"uri\">https://www.gpo.gov/fdsys/granule/WCPD-1998-09-07/WCPD-1998-09-07-Pg1683</identifier>\n",
      "<identifier type=\"former granule identifier\">pd07se98_txt-9</identifier>\n",
      "<location>\n",
      "<url displayLabel=\"Content Detail\" access=\"object in context\">https://www.gpo.gov/fdsys/granule/WCPD-1998-09-07/WCPD-1998-09-07-Pg1683/content-detail.html</url>\n",
      "<url access=\"raw object\" displayLabel=\"PDF rendition\">https://www.gpo.gov/fdsys/pkg/WCPD-1998-09-07/pdf/WCPD-1998-09-07-Pg1683.pdf</url>\n",
      "<url access=\"raw object\" displayLabel=\"HTML rendition\">https://www.gpo.gov/fdsys/pkg/WCPD-1998-09-07/html/WCPD-1998-09-07-Pg1683.htm</url>\n",
      "</location>\n",
      "<subject>\n",
      "<topic>Statements by the President</topic>\n",
      "</subject>\n",
      "<physicalDescription>\n",
      "<extent>1 p.</extent>\n",
      "</physicalDescription>\n",
      "<part type=\"article\">\n",
      "<extent unit=\"pages\">\n",
      "<start>1683</start>\n",
      "<end>1683</end>\n",
      "</extent>\n",
      "</part>\n",
      "<identifier type=\"preferred citation\">34 WCPD 1683</identifier>\n",
      "<extension>\n",
      "<searchTitle>Statement on the Northern Ireland Peace Process; Weekly Compilation of Presidential Documents Vol. 34, No. 36</searchTitle>\n",
      "<granuleClass>PRESDOCU</granuleClass>\n",
      "<accessId>WCPD-1998-09-07-Pg1683</accessId>\n",
      "<eventDate>1998-09-01</eventDate>\n",
      "<president id=\"WJC\" party=\"D\">\n",
      "                        <name type=\"authority-lnf\">Clinton, William J.</name>\n",
      "                        <name type=\"authority-fnf\">William J. Clinton</name>\n",
      "                        <name type=\"authority-other\">Bill Clinton</name>\n",
      "                        <name type=\"authority-other\">William Clinton</name>\n",
      "                        <name type=\"authority-other\">William Jefferson Clinton</name>\n",
      "                    </president>\n",
      "<category1>Statements by the President</category1>\n",
      "</extension>\n",
      "<relatedItem type=\"host\" ID=\"P0b002ee1802d0339\">\n",
      "<titleInfo>\n",
      "<title>Weekly Compilation of Presidential Documents</title>\n",
      "<partNumber>Vol. 34, no. 36</partNumber>\n",
      "</titleInfo>\n",
      "<originInfo>\n",
      "<publisher>Office of the Federal Register, National Archives and Records Administration</publisher>\n",
      "<dateIssued encoding=\"w3cdtf\">1998-09-07</dateIssued>\n",
      "<issuance>continuing</issuance>\n",
      "<frequency>weekly</frequency>\n",
      "</originInfo>\n",
      "<physicalDescription>\n",
      "<note type=\"source content type\">deposited</note>\n",
      "<digitalOrigin>born digital</digitalOrigin>\n",
      "<extent>67 p.</extent>\n",
      "</physicalDescription>\n",
      "<classification authority=\"sudocs\">AE 2.109:</classification>\n",
      "<classification authority=\"sudocs\">GS 4.114:</classification>\n",
      "<identifier type=\"local\">P0b002ee1802d0339</identifier>\n",
      "<identifier type=\"uri\">https://www.gpo.gov/fdsys/pkg/WCPD-1998-09-07</identifier>\n",
      "<identifier type=\"ILS system id\">000599742</identifier>\n",
      "<identifier type=\"former package identifier\">pd07se98_txt</identifier>\n",
      "<identifier type=\"preferred citation\">34 WCPD 1667</identifier>\n",
      "<location>\n",
      "<url displayLabel=\"Content Detail\" access=\"object in context\">https://www.gpo.gov/fdsys/pkg/WCPD-1998-09-07/content-detail.html</url>\n",
      "<url displayLabel=\"PDF rendition\" access=\"raw object\">https://www.gpo.gov/fdsys/pkg/WCPD-1998-09-07/pdf/WCPD-1998-09-07.pdf</url>\n",
      "</location>\n",
      "<accessCondition type=\"GPO scope determination\">fdlp</accessCondition>\n",
      "<part type=\"issue\">\n",
      "<extent unit=\"pages\">\n",
      "<start>1667</start>\n",
      "<end>1730</end>\n",
      "</extent>\n",
      "</part>\n",
      "<recordInfo>\n",
      "<recordContentSource authority=\"marcorg\">DGPO</recordContentSource>\n",
      "<recordCreationDate encoding=\"w3cdtf\">2010-08-03</recordCreationDate>\n",
      "<recordChangeDate encoding=\"w3cdtf\">2017-07-18</recordChangeDate>\n",
      "<recordIdentifier source=\"DGPO\">WCPD-1998-09-07</recordIdentifier>\n",
      "<recordOrigin>machine generated</recordOrigin>\n",
      "<languageOfCataloging>\n",
      "<languageTerm type=\"code\" authority=\"iso639-2b\">eng</languageTerm>\n",
      "</languageOfCataloging>\n",
      "</recordInfo>\n",
      "<extension>\n",
      "<docClass>WCPD</docClass>\n",
      "<accessId>WCPD-1998-09-07</accessId>\n",
      "<weekEndingDate>1998-09-04</weekEndingDate>\n",
      "<volume>34</volume>\n",
      "<issue>36</issue>\n",
      "</extension>\n",
      "</relatedItem>\n",
      "</mods>\n",
      "\n"
     ]
    }
   ],
   "source": [
    "text_file = '/Users/machine72/Desktop/Statement Clinton.xml'\n",
    "with open(text_file, 'r') as text_file:\n",
    "    text = text_file.read()\n",
    "print(text)"
   ]
  },
  {
   "cell_type": "markdown",
   "metadata": {},
   "source": [
    "President"
   ]
  },
  {
   "cell_type": "code",
   "execution_count": 64,
   "metadata": {
    "collapsed": true
   },
   "outputs": [],
   "source": [
    "presidents = ['\"GWB\"', '\"BHO\"', '\"DJT\"', '\"WJC\"']\n",
    "names = ['George W. Bush', 'Barack H. Obama', 'Donald J. Trump', 'William J. Clinton']\n",
    "parties = ['\"R\"', '\"D\"' ]\n",
    "party_name = ['Republican', 'Democrat']"
   ]
  },
  {
   "cell_type": "code",
   "execution_count": 65,
   "metadata": {},
   "outputs": [
    {
     "data": {
      "text/plain": [
       "'William J. Clinton'"
      ]
     },
     "execution_count": 65,
     "metadata": {},
     "output_type": "execute_result"
    }
   ],
   "source": [
    "def president(text):\n",
    "    pres = re.findall('(?<=president id=).*\\w\\S', text)\n",
    "    x = pres[0].split()\n",
    "    for president in presidents: \n",
    "        if president in x: \n",
    "            return names[presidents.index(president)]\n",
    "president(text)"
   ]
  },
  {
   "cell_type": "markdown",
   "metadata": {},
   "source": [
    "Party"
   ]
  },
  {
   "cell_type": "code",
   "execution_count": 66,
   "metadata": {},
   "outputs": [
    {
     "data": {
      "text/plain": [
       "'Democrat'"
      ]
     },
     "execution_count": 66,
     "metadata": {},
     "output_type": "execute_result"
    }
   ],
   "source": [
    "def party(text):\n",
    "    par = re.findall('(?<=party=).*\\w\\S', text)\n",
    "    for party in parties: \n",
    "        if party in par:\n",
    "            return party_name[parties.index(party)]\n",
    "party(text)"
   ]
  },
  {
   "cell_type": "markdown",
   "metadata": {},
   "source": [
    "Statement"
   ]
  },
  {
   "cell_type": "code",
   "execution_count": 67,
   "metadata": {},
   "outputs": [
    {
     "data": {
      "text/plain": [
       "'Statement on the Northern Ireland Peace Process'"
      ]
     },
     "execution_count": 67,
     "metadata": {},
     "output_type": "execute_result"
    }
   ],
   "source": [
    "def statement(text):\n",
    "    soup = BeautifulSoup(text, 'xml')\n",
    "    tags = soup.find('title')\n",
    "    soup2 = BeautifulSoup(str(tags), 'xml')\n",
    "    return (soup2.text)\n",
    "\n",
    "statement(text)"
   ]
  },
  {
   "cell_type": "markdown",
   "metadata": {},
   "source": [
    "Date"
   ]
  },
  {
   "cell_type": "code",
   "execution_count": 68,
   "metadata": {},
   "outputs": [
    {
     "data": {
      "text/plain": [
       "'1998-09-07'"
      ]
     },
     "execution_count": 68,
     "metadata": {},
     "output_type": "execute_result"
    }
   ],
   "source": [
    "def date(txt):\n",
    "    date_issued = re.findall(r'<dateIssued .*>(.+?)<\\/dateIssued>',txt)\n",
    "    return date_issued[0]\n",
    "date(text)"
   ]
  },
  {
   "cell_type": "markdown",
   "metadata": {},
   "source": [
    "Categories"
   ]
  },
  {
   "cell_type": "code",
   "execution_count": 69,
   "metadata": {},
   "outputs": [
    {
     "data": {
      "text/plain": [
       "'None'"
      ]
     },
     "execution_count": 69,
     "metadata": {},
     "output_type": "execute_result"
    }
   ],
   "source": [
    "def categories(txt): \n",
    "    soup = BeautifulSoup(text, 'xml')\n",
    "    tags = [a for a in (td.find('dcpdCategory') for td in soup.findAll('extension')) if a]\n",
    "    if not tags:\n",
    "        return \"None\"\n",
    "    tags = BeautifulSoup(str(tags[0]),'xml')\n",
    "    return print(tags.text)\n",
    "\n",
    "categories(text)"
   ]
  },
  {
   "cell_type": "markdown",
   "metadata": {},
   "source": [
    "Subjects"
   ]
  },
  {
   "cell_type": "code",
   "execution_count": 70,
   "metadata": {},
   "outputs": [
    {
     "data": {
      "text/plain": [
       "'Statements by the President'"
      ]
     },
     "execution_count": 70,
     "metadata": {},
     "output_type": "execute_result"
    }
   ],
   "source": [
    "def subjects(text):\n",
    "    soup = BeautifulSoup(text, 'xml')\n",
    "    tags = [a for a in (td.findAll('topic') for td in soup.findAll('subject')) if a] \n",
    "    if not tags:\n",
    "        return \"None\"\n",
    "    flatten_list = [x for y in tags for x in y]\n",
    "    tags2 = [BeautifulSoup(str(i), \"xml\") for i in flatten_list]\n",
    "    no_tags = [i.text for i in tags2]\n",
    "    return no_tags[0]\n",
    "\n",
    "subjects(text)"
   ]
  },
  {
   "cell_type": "markdown",
   "metadata": {},
   "source": [
    "DCPD"
   ]
  },
  {
   "cell_type": "code",
   "execution_count": 71,
   "metadata": {},
   "outputs": [
    {
     "data": {
      "text/plain": [
       "'199809071683'"
      ]
     },
     "execution_count": 71,
     "metadata": {},
     "output_type": "execute_result"
    }
   ],
   "source": [
    "def dcpd(text) :\n",
    "    return re.sub(\"\\D\", \"\", re.findall(r'<accessId>(.+?)</accessId>',text)[0])\n",
    "\n",
    "dcpd(text)"
   ]
  },
  {
   "cell_type": "code",
   "execution_count": 72,
   "metadata": {
    "collapsed": true
   },
   "outputs": [],
   "source": [
    "#Works for Trump\n",
    "#Works for Obama\n",
    "#Works for Bush\n",
    "#Works for Clinton"
   ]
  }
 ],
 "metadata": {
  "kernelspec": {
   "display_name": "Python 3",
   "language": "python",
   "name": "python3"
  },
  "language_info": {
   "codemirror_mode": {
    "name": "ipython",
    "version": 3
   },
   "file_extension": ".py",
   "mimetype": "text/x-python",
   "name": "python",
   "nbconvert_exporter": "python",
   "pygments_lexer": "ipython3",
   "version": "3.6.3"
  }
 },
 "nbformat": 4,
 "nbformat_minor": 2
}
