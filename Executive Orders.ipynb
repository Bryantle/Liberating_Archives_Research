{
 "cells": [
  {
   "cell_type": "code",
   "execution_count": 209,
   "metadata": {},
   "outputs": [],
   "source": [
    "import pandas\n",
    "import urllib\n",
    "from selenium import webdriver\n",
    "from time import sleep\n",
    "import re\n",
    "import os.path\n",
    "import io\n",
    "from bs4 import BeautifulSoup\n",
    "\n",
    "gpo=webdriver.Chrome()\n",
    "gpo.get(\"https://www.gpo.gov/fdsys/browse/collection.action?collectionCode=CPD\")"
   ]
  },
  {
   "cell_type": "code",
   "execution_count": 49,
   "metadata": {},
   "outputs": [
    {
     "data": {
      "text/plain": [
       "[<selenium.webdriver.remote.webelement.WebElement (session=\"a9fdfa3dfa9cd2b4d5feba6f7605e094\", element=\"0.8569822999146735-1\")>,\n",
       " <selenium.webdriver.remote.webelement.WebElement (session=\"a9fdfa3dfa9cd2b4d5feba6f7605e094\", element=\"0.8569822999146735-2\")>,\n",
       " <selenium.webdriver.remote.webelement.WebElement (session=\"a9fdfa3dfa9cd2b4d5feba6f7605e094\", element=\"0.8569822999146735-3\")>,\n",
       " <selenium.webdriver.remote.webelement.WebElement (session=\"a9fdfa3dfa9cd2b4d5feba6f7605e094\", element=\"0.8569822999146735-4\")>,\n",
       " <selenium.webdriver.remote.webelement.WebElement (session=\"a9fdfa3dfa9cd2b4d5feba6f7605e094\", element=\"0.8569822999146735-5\")>,\n",
       " <selenium.webdriver.remote.webelement.WebElement (session=\"a9fdfa3dfa9cd2b4d5feba6f7605e094\", element=\"0.8569822999146735-6\")>,\n",
       " <selenium.webdriver.remote.webelement.WebElement (session=\"a9fdfa3dfa9cd2b4d5feba6f7605e094\", element=\"0.8569822999146735-7\")>,\n",
       " <selenium.webdriver.remote.webelement.WebElement (session=\"a9fdfa3dfa9cd2b4d5feba6f7605e094\", element=\"0.8569822999146735-8\")>,\n",
       " <selenium.webdriver.remote.webelement.WebElement (session=\"a9fdfa3dfa9cd2b4d5feba6f7605e094\", element=\"0.8569822999146735-9\")>,\n",
       " <selenium.webdriver.remote.webelement.WebElement (session=\"a9fdfa3dfa9cd2b4d5feba6f7605e094\", element=\"0.8569822999146735-10\")>,\n",
       " <selenium.webdriver.remote.webelement.WebElement (session=\"a9fdfa3dfa9cd2b4d5feba6f7605e094\", element=\"0.8569822999146735-11\")>,\n",
       " <selenium.webdriver.remote.webelement.WebElement (session=\"a9fdfa3dfa9cd2b4d5feba6f7605e094\", element=\"0.8569822999146735-12\")>,\n",
       " <selenium.webdriver.remote.webelement.WebElement (session=\"a9fdfa3dfa9cd2b4d5feba6f7605e094\", element=\"0.8569822999146735-13\")>,\n",
       " <selenium.webdriver.remote.webelement.WebElement (session=\"a9fdfa3dfa9cd2b4d5feba6f7605e094\", element=\"0.8569822999146735-14\")>,\n",
       " <selenium.webdriver.remote.webelement.WebElement (session=\"a9fdfa3dfa9cd2b4d5feba6f7605e094\", element=\"0.8569822999146735-15\")>,\n",
       " <selenium.webdriver.remote.webelement.WebElement (session=\"a9fdfa3dfa9cd2b4d5feba6f7605e094\", element=\"0.8569822999146735-16\")>,\n",
       " <selenium.webdriver.remote.webelement.WebElement (session=\"a9fdfa3dfa9cd2b4d5feba6f7605e094\", element=\"0.8569822999146735-17\")>,\n",
       " <selenium.webdriver.remote.webelement.WebElement (session=\"a9fdfa3dfa9cd2b4d5feba6f7605e094\", element=\"0.8569822999146735-18\")>,\n",
       " <selenium.webdriver.remote.webelement.WebElement (session=\"a9fdfa3dfa9cd2b4d5feba6f7605e094\", element=\"0.8569822999146735-19\")>,\n",
       " <selenium.webdriver.remote.webelement.WebElement (session=\"a9fdfa3dfa9cd2b4d5feba6f7605e094\", element=\"0.8569822999146735-20\")>,\n",
       " <selenium.webdriver.remote.webelement.WebElement (session=\"a9fdfa3dfa9cd2b4d5feba6f7605e094\", element=\"0.8569822999146735-21\")>,\n",
       " <selenium.webdriver.remote.webelement.WebElement (session=\"a9fdfa3dfa9cd2b4d5feba6f7605e094\", element=\"0.8569822999146735-22\")>,\n",
       " <selenium.webdriver.remote.webelement.WebElement (session=\"a9fdfa3dfa9cd2b4d5feba6f7605e094\", element=\"0.8569822999146735-23\")>,\n",
       " <selenium.webdriver.remote.webelement.WebElement (session=\"a9fdfa3dfa9cd2b4d5feba6f7605e094\", element=\"0.8569822999146735-24\")>,\n",
       " <selenium.webdriver.remote.webelement.WebElement (session=\"a9fdfa3dfa9cd2b4d5feba6f7605e094\", element=\"0.8569822999146735-25\")>,\n",
       " <selenium.webdriver.remote.webelement.WebElement (session=\"a9fdfa3dfa9cd2b4d5feba6f7605e094\", element=\"0.8569822999146735-26\")>,\n",
       " <selenium.webdriver.remote.webelement.WebElement (session=\"a9fdfa3dfa9cd2b4d5feba6f7605e094\", element=\"0.8569822999146735-27\")>]"
      ]
     },
     "execution_count": 49,
     "metadata": {},
     "output_type": "execute_result"
    }
   ],
   "source": [
    "years=gpo.find_elements_by_xpath(\".//div[@class='level1 browse-level']/a\")\n",
    "\n",
    "years"
   ]
  },
  {
   "cell_type": "code",
   "execution_count": 201,
   "metadata": {
    "collapsed": true
   },
   "outputs": [],
   "source": [
    "def find_all_more(url_var):\n",
    "    \"\"\"Finds all text links on a page\"\"\"\n",
    "    return url_var.find_elements_by_partial_link_text('More')\n",
    "\n",
    "def get_doc_link(links):\n",
    "    \"\"\"Takes a list of text links and returns the url value of the actual document\"\"\"\n",
    "    href = []\n",
    "    for i in range(len(links)):\n",
    "        href.append(links[i].get_attribute('href'))\n",
    "    return href"
   ]
  },
  {
   "cell_type": "code",
   "execution_count": 202,
   "metadata": {},
   "outputs": [
    {
     "name": "stdout",
     "output_type": "stream",
     "text": [
      "<?xml version=\"1.0\" encoding=\"UTF-8\"?><mods xmlns:xlink=\"http://www.w3.org/1999/xlink\" xmlns:exslt=\"http://exslt.org/common\" xmlns:xsi=\"http://www.w3.org/2001/XMLSchema-instance\" xmlns=\"http://www.loc.gov/mods/v3\" version=\"3.3\" xsi:schemaLocation=\"http://www.loc.gov/mods/v3 http://www.loc.gov/standards/mods/v3/mods-3-3.xsd\" ID=\"id-WCPD-1997-10-20-Pg1567\">\n",
      "<name type=\"corporate\">\n",
      "<namePart>United States Government Publishing Office</namePart>\n",
      "<role>\n",
      "<roleTerm authority=\"marcrelator\" type=\"text\">publisher</roleTerm>\n",
      "<roleTerm authority=\"marcrelator\" type=\"code\">pbl</roleTerm>\n",
      "</role>\n",
      "<role>\n",
      "<roleTerm authority=\"marcrelator\" type=\"text\">distributor</roleTerm>\n",
      "<roleTerm authority=\"marcrelator\" type=\"code\">dst</roleTerm>\n",
      "</role>\n",
      "</name>\n",
      "<name type=\"corporate\">\n",
      "<namePart>United States</namePart>\n",
      "<namePart>National Archives and Records Administration</namePart>\n",
      "<namePart>Office of the Federal Register</namePart>\n",
      "<role>\n",
      "<roleTerm authority=\"marcrelator\" type=\"text\">author</roleTerm>\n",
      "<roleTerm authority=\"marcrelator\" type=\"code\">aut</roleTerm>\n",
      "</role>\n",
      "<description>Government Organization</description>\n",
      "</name>\n",
      "<name type=\"corporate\">\n",
      "<namePart>United States</namePart>\n",
      "<namePart>Executive Office of the President</namePart>\n",
      "<role>\n",
      "<roleTerm authority=\"marcrelator\" type=\"text\">author</roleTerm>\n",
      "<roleTerm authority=\"marcrelator\" type=\"code\">aut</roleTerm>\n",
      "</role>\n",
      "<description>United States Government Agency</description>\n",
      "</name>\n",
      "<typeOfResource>text</typeOfResource>\n",
      "<genre authority=\"marcgt\">government publication</genre>\n",
      "<language>\n",
      "<languageTerm type=\"code\" authority=\"iso639-2b\">eng</languageTerm>\n",
      "</language>\n",
      "<extension>\n",
      "<collectionCode>WCPD</collectionCode>\n",
      "<category>Budget and Presidential Materials</category>\n",
      "<waisDatabaseName>1997_presidential_documents</waisDatabaseName>\n",
      "<branch>executive</branch>\n",
      "<dateIngested>2010-08-03</dateIngested>\n",
      "</extension>\n",
      "<name type=\"personal\">\n",
      "<namePart>William J. Clinton</namePart>\n",
      "<role>\n",
      "<roleTerm authority=\"marcrelator\" type=\"text\">author</roleTerm>\n",
      "<roleTerm authority=\"marcrelator\" type=\"code\">aut</roleTerm>\n",
      "</role>\n",
      "<description>President of the United States</description>\n",
      "</name>\n",
      "<genre authority=\"marcgt\">article</genre>\n",
      "<titleInfo>\n",
      "<title>Executive Order 13064--Further Amendment to Executive Order 13010, as Amended, Critical Infrastructure Protection</title>\n",
      "</titleInfo>\n",
      "<relatedItem type=\"otherFormat\" xlink:href=\"https://www.gpo.gov/fdsys/pkg/WCPD-1997-10-20/html/WCPD-1997-10-20-Pg1567.htm\">\n",
      "<identifier type=\"FDsys Unique ID\">D09002ee195a08180</identifier>\n",
      "</relatedItem>\n",
      "<relatedItem type=\"otherFormat\" xlink:href=\"https://www.gpo.gov/fdsys/pkg/WCPD-1997-10-20/pdf/WCPD-1997-10-20-Pg1567.pdf\">\n",
      "<identifier type=\"FDsys Unique ID\">D09002ee195a081a4</identifier>\n",
      "</relatedItem>\n",
      "<identifier type=\"WCPD citation\">33 WCPD 1567</identifier>\n",
      "<identifier type=\"uri\">https://www.gpo.gov/fdsys/granule/WCPD-1997-10-20/WCPD-1997-10-20-Pg1567</identifier>\n",
      "<identifier type=\"former granule identifier\">pd20oc97_txt-12</identifier>\n",
      "<identifier type=\"presidential executive order number\">Executive Order13064</identifier>\n",
      "<location>\n",
      "<url displayLabel=\"Content Detail\" access=\"object in context\">https://www.gpo.gov/fdsys/granule/WCPD-1997-10-20/WCPD-1997-10-20-Pg1567/content-detail.html</url>\n",
      "<url access=\"raw object\" displayLabel=\"PDF rendition\">https://www.gpo.gov/fdsys/pkg/WCPD-1997-10-20/pdf/WCPD-1997-10-20-Pg1567.pdf</url>\n",
      "<url access=\"raw object\" displayLabel=\"HTML rendition\">https://www.gpo.gov/fdsys/pkg/WCPD-1997-10-20/html/WCPD-1997-10-20-Pg1567.htm</url>\n",
      "</location>\n",
      "<subject>\n",
      "<topic>Executive Orders</topic>\n",
      "</subject>\n",
      "<physicalDescription>\n",
      "<extent>2 p.</extent>\n",
      "</physicalDescription>\n",
      "<part type=\"article\">\n",
      "<extent unit=\"pages\">\n",
      "<start>1567</start>\n",
      "<end>1568</end>\n",
      "</extent>\n",
      "</part>\n",
      "<identifier type=\"preferred citation\">33 WCPD 1567</identifier>\n",
      "<identifier type=\"presidential executive order number\">Executive Order 13064</identifier>\n",
      "<extension>\n",
      "<searchTitle>Executive Order 13064--Further Amendment to Executive Order 13010, as Amended, Critical Infrastructure Protection; Weekly Compilation of Presidential Documents Vol. 33, No. 42</searchTitle>\n",
      "<granuleClass>PRESDOCU</granuleClass>\n",
      "<accessId>WCPD-1997-10-20-Pg1567</accessId>\n",
      "<eventDate>1997-10-11</eventDate>\n",
      "<president id=\"WJC\" party=\"D\">\n",
      "                        <name type=\"authority-lnf\">Clinton, William J.</name>\n",
      "                        <name type=\"authority-fnf\">William J. Clinton</name>\n",
      "                        <name type=\"authority-other\">Bill Clinton</name>\n",
      "                        <name type=\"authority-other\">William Clinton</name>\n",
      "                        <name type=\"authority-other\">William Jefferson Clinton</name>\n",
      "                    </president>\n",
      "<presidentialDoc date=\"1997-10-11\" number=\"13064\" type=\"EXECORD\"/>\n",
      "<category1>Executive Orders</category1>\n",
      "<notes>This Executive order was released by the Office of the Press Secretary on October 14, and it was published in the Federal Register on October 16.</notes>\n",
      "</extension>\n",
      "<relatedItem type=\"host\" ID=\"P0b002ee1802cd841\">\n",
      "<titleInfo>\n",
      "<title>Weekly Compilation of Presidential Documents</title>\n",
      "<partNumber>Vol. 33, no. 42</partNumber>\n",
      "</titleInfo>\n",
      "<originInfo>\n",
      "<publisher>Office of the Federal Register, National Archives and Records Administration</publisher>\n",
      "<dateIssued encoding=\"w3cdtf\">1997-10-20</dateIssued>\n",
      "<issuance>continuing</issuance>\n",
      "<frequency>weekly</frequency>\n",
      "</originInfo>\n",
      "<physicalDescription>\n",
      "<note type=\"source content type\">deposited</note>\n",
      "<digitalOrigin>born digital</digitalOrigin>\n",
      "<extent>60 p.</extent>\n",
      "</physicalDescription>\n",
      "<classification authority=\"sudocs\">AE 2.109:</classification>\n",
      "<classification authority=\"sudocs\">GS 4.114:</classification>\n",
      "<identifier type=\"local\">P0b002ee1802cd841</identifier>\n",
      "<identifier type=\"uri\">https://www.gpo.gov/fdsys/pkg/WCPD-1997-10-20</identifier>\n",
      "<identifier type=\"ILS system id\">000599742</identifier>\n",
      "<identifier type=\"former package identifier\">pd20oc97_txt</identifier>\n",
      "<identifier type=\"preferred citation\">33 WCPD 1555</identifier>\n",
      "<location>\n",
      "<url displayLabel=\"Content Detail\" access=\"object in context\">https://www.gpo.gov/fdsys/pkg/WCPD-1997-10-20/content-detail.html</url>\n",
      "<url displayLabel=\"PDF rendition\" access=\"raw object\">https://www.gpo.gov/fdsys/pkg/WCPD-1997-10-20/pdf/WCPD-1997-10-20.pdf</url>\n",
      "</location>\n",
      "<accessCondition type=\"GPO scope determination\">fdlp</accessCondition>\n",
      "<part type=\"issue\">\n",
      "<extent unit=\"pages\">\n",
      "<start>1555</start>\n",
      "<end>1610</end>\n",
      "</extent>\n",
      "</part>\n",
      "<recordInfo>\n",
      "<recordContentSource authority=\"marcorg\">DGPO</recordContentSource>\n",
      "<recordCreationDate encoding=\"w3cdtf\">2010-08-03</recordCreationDate>\n",
      "<recordChangeDate encoding=\"w3cdtf\">2017-07-18</recordChangeDate>\n",
      "<recordIdentifier source=\"DGPO\">WCPD-1997-10-20</recordIdentifier>\n",
      "<recordOrigin>machine generated</recordOrigin>\n",
      "<languageOfCataloging>\n",
      "<languageTerm type=\"code\" authority=\"iso639-2b\">eng</languageTerm>\n",
      "</languageOfCataloging>\n",
      "</recordInfo>\n",
      "<extension>\n",
      "<docClass>WCPD</docClass>\n",
      "<accessId>WCPD-1997-10-20</accessId>\n",
      "<weekEndingDate>1997-10-17</weekEndingDate>\n",
      "<volume>33</volume>\n",
      "<issue>42</issue>\n",
      "</extension>\n",
      "</relatedItem>\n",
      "</mods>\n",
      "\n"
     ]
    }
   ],
   "source": [
    "text_file = '/Users/machine72/Desktop/Executive Order Clinton.xml'\n",
    "with open(text_file, 'r') as text_file:\n",
    "    text = text_file.read()\n",
    "print(text)"
   ]
  },
  {
   "cell_type": "code",
   "execution_count": 203,
   "metadata": {
    "collapsed": true
   },
   "outputs": [],
   "source": [
    "presidents = ['\"GWB\"', '\"BHO\"', '\"DJT\"', '\"WJC\"']\n",
    "names = ['George W. Bush', 'Barack H. Obama', 'Donald J. Trump', 'William J. Clinton']\n",
    "parties = ['\"R\"', '\"D\"' ]\n",
    "party_name = ['Republican', 'Democrat']"
   ]
  },
  {
   "cell_type": "markdown",
   "metadata": {},
   "source": [
    "President"
   ]
  },
  {
   "cell_type": "code",
   "execution_count": 204,
   "metadata": {},
   "outputs": [
    {
     "data": {
      "text/plain": [
       "'William J. Clinton'"
      ]
     },
     "execution_count": 204,
     "metadata": {},
     "output_type": "execute_result"
    }
   ],
   "source": [
    "def president(text):\n",
    "    pres = re.findall('(?<=president id=).*\\w\\S', text)\n",
    "    x = pres[0].split()\n",
    "    for president in presidents: \n",
    "        if president in x: \n",
    "            return names[presidents.index(president)]\n",
    "president(text)"
   ]
  },
  {
   "cell_type": "markdown",
   "metadata": {},
   "source": [
    "Party"
   ]
  },
  {
   "cell_type": "code",
   "execution_count": 205,
   "metadata": {},
   "outputs": [
    {
     "data": {
      "text/plain": [
       "'Democrat'"
      ]
     },
     "execution_count": 205,
     "metadata": {},
     "output_type": "execute_result"
    }
   ],
   "source": [
    "def party(text):\n",
    "    par = re.findall('(?<=party=).*\\w\\S', text)\n",
    "    for party in parties: \n",
    "        if party in par:\n",
    "            return party_name[parties.index(party)]\n",
    "party(text)"
   ]
  },
  {
   "cell_type": "markdown",
   "metadata": {},
   "source": [
    "Statement"
   ]
  },
  {
   "cell_type": "code",
   "execution_count": 206,
   "metadata": {},
   "outputs": [
    {
     "data": {
      "text/plain": [
       "'Executive Order 13064--Further Amendment to Executive Order 13010, as Amended, Critical Infrastructure Protection'"
      ]
     },
     "execution_count": 206,
     "metadata": {},
     "output_type": "execute_result"
    }
   ],
   "source": [
    "def statement(text):\n",
    "    soup = BeautifulSoup(text, 'xml')\n",
    "    tags = soup.find('title')\n",
    "    return tags.text\n",
    "\n",
    "statement(text)"
   ]
  },
  {
   "cell_type": "markdown",
   "metadata": {},
   "source": [
    "Date"
   ]
  },
  {
   "cell_type": "code",
   "execution_count": 207,
   "metadata": {},
   "outputs": [
    {
     "data": {
      "text/plain": [
       "'1997-10-20'"
      ]
     },
     "execution_count": 207,
     "metadata": {},
     "output_type": "execute_result"
    }
   ],
   "source": [
    "def date(txt):\n",
    "    date_issued = re.findall(r'<dateIssued .*>(.+?)<\\/dateIssued>',txt)\n",
    "    return date_issued[0]\n",
    "date(text)"
   ]
  },
  {
   "cell_type": "markdown",
   "metadata": {},
   "source": [
    "Notes"
   ]
  },
  {
   "cell_type": "code",
   "execution_count": 208,
   "metadata": {},
   "outputs": [
    {
     "data": {
      "text/plain": [
       "'Executive Order 13064--Further Amendment to Executive Order 13010, as Amended, Critical Infrastructure Protection'"
      ]
     },
     "execution_count": 208,
     "metadata": {},
     "output_type": "execute_result"
    }
   ],
   "source": [
    "def note(txt):\n",
    "    soup = BeautifulSoup(txt, 'xml')\n",
    "    tags = [a for a in (td.findAll('title') for td in soup.findAll('titleInfo')) if a]\n",
    "    if not tags:\n",
    "        return \"None\"\n",
    "    flatten_list = [x for y in tags for x in y]\n",
    "    tags2 = [BeautifulSoup(str(i), \"xml\") for i in flatten_list]\n",
    "    no_tags = [i.text for i in tags2]\n",
    "    return no_tags[0]\n",
    "\n",
    "note(text)\n"
   ]
  },
  {
   "cell_type": "markdown",
   "metadata": {},
   "source": [
    "Categories"
   ]
  },
  {
   "cell_type": "code",
   "execution_count": 196,
   "metadata": {},
   "outputs": [
    {
     "data": {
      "text/plain": [
       "'None'"
      ]
     },
     "execution_count": 196,
     "metadata": {},
     "output_type": "execute_result"
    }
   ],
   "source": [
    "def categories(txt): \n",
    "    soup = BeautifulSoup(text, 'xml')\n",
    "    tags = [a for a in (td.find('dcpdCategory') for td in soup.findAll('extension')) if a]\n",
    "    if not tags:\n",
    "        return 'None'\n",
    "    tags = BeautifulSoup(str(tags[0]),'xml')\n",
    "    return print(tags.text)\n",
    "\n",
    "categories(text)"
   ]
  },
  {
   "cell_type": "markdown",
   "metadata": {},
   "source": [
    "Subjects"
   ]
  },
  {
   "cell_type": "code",
   "execution_count": 200,
   "metadata": {},
   "outputs": [
    {
     "data": {
      "text/plain": [
       "'Executive Orders'"
      ]
     },
     "execution_count": 200,
     "metadata": {},
     "output_type": "execute_result"
    }
   ],
   "source": [
    "def subjects(txt):\n",
    "    soup = BeautifulSoup(text, 'xml')\n",
    "    tags = [a for a in (td.findAll('topic') for td in soup.findAll('subject')) if a] \n",
    "    if not tags:\n",
    "        return \"None\"\n",
    "    flatten_list = [x for y in tags for x in y]\n",
    "    tags2 = [BeautifulSoup(str(i), \"xml\") for i in flatten_list]\n",
    "    no_tags = [i.text for i in tags2]\n",
    "    return no_tags[0]\n",
    "\n",
    "subjects(text)"
   ]
  },
  {
   "cell_type": "markdown",
   "metadata": {},
   "source": [
    "DCPD"
   ]
  },
  {
   "cell_type": "code",
   "execution_count": 198,
   "metadata": {},
   "outputs": [
    {
     "data": {
      "text/plain": [
       "'199710201567'"
      ]
     },
     "execution_count": 198,
     "metadata": {},
     "output_type": "execute_result"
    }
   ],
   "source": [
    "def dcpd(txt) :\n",
    "    dcpd = re.findall(r'<accessId>(.+?)</accessId>',txt)\n",
    "    dcpd2 =  re.sub(\"\\D\", \"\", dcpd[0])\n",
    "    return dcpd2\n",
    "dcpd(text)"
   ]
  },
  {
   "cell_type": "code",
   "execution_count": 199,
   "metadata": {
    "collapsed": true
   },
   "outputs": [],
   "source": [
    "#Works for Trump\n",
    "#Works for Obama\n",
    "#Works for Bush\n",
    "#Works for Clinton"
   ]
  }
 ],
 "metadata": {
  "kernelspec": {
   "display_name": "Python 3",
   "language": "python",
   "name": "python3"
  },
  "language_info": {
   "codemirror_mode": {
    "name": "ipython",
    "version": 3
   },
   "file_extension": ".py",
   "mimetype": "text/x-python",
   "name": "python",
   "nbconvert_exporter": "python",
   "pygments_lexer": "ipython3",
   "version": "3.6.3"
  }
 },
 "nbformat": 4,
 "nbformat_minor": 2
}
