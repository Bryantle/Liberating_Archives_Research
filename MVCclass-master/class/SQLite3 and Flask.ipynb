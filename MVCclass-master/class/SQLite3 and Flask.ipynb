{
 "cells": [
  {
   "cell_type": "markdown",
   "metadata": {},
   "source": [
    "# 1. SQLite\n",
    "- Is a relational database based on SQL language but optimized for use in small environments"
   ]
  },
  {
   "cell_type": "markdown",
   "metadata": {},
   "source": [
    "There are a couple of ways you could choose to create databases for your projects.\n",
    "\n",
    "\n",
    "### 1.1 You could use SQLite's commands to store your parsed texts. For example:"
   ]
  },
  {
   "cell_type": "code",
   "execution_count": 74,
   "metadata": {},
   "outputs": [],
   "source": [
    "import sqlite3\n",
    "\n",
    "connection = sqlite3.connect(\"mydatabase.db\") # you can also call it mydatabase.sqlite\n",
    "\n",
    "cursor = connection.cursor()\n",
    "\n",
    "#cursor.execute(\"CREATE TABLE hearing(id INTEGER PRIMARY KEY, title TEXT);\")\n",
    "\n",
    "cursor.execute(\"INSERT INTO hearing VALUES (1, 'congressional hearing');\")\n",
    "\n",
    "cursor.execute(\"INSERT INTO hearing VALUES (2, 'senate hearing');\")\n",
    "\n",
    "connection.close()"
   ]
  },
  {
   "cell_type": "markdown",
   "metadata": {},
   "source": [
    "### 1.2  Store your parsed data into CSV files and then convert the CSV files to an SQlite file [Recommended] . \n",
    "Have a look at the CSV files we will use for our experiment today. We can use pandas to get the files and have a peek at what is in each of them.\n",
    "\n",
    "We have 4 files. You can think of them as tables.\n",
    "\n",
    "Hearing\n",
    "\n",
    "Speech\n",
    "\n",
    "Speaker\n",
    "\n",
    "Person"
   ]
  },
  {
   "cell_type": "code",
   "execution_count": 57,
   "metadata": {},
   "outputs": [
    {
     "data": {
      "text/html": [
       "<div>\n",
       "<style scoped>\n",
       "    .dataframe tbody tr th:only-of-type {\n",
       "        vertical-align: middle;\n",
       "    }\n",
       "\n",
       "    .dataframe tbody tr th {\n",
       "        vertical-align: top;\n",
       "    }\n",
       "\n",
       "    .dataframe thead th {\n",
       "        text-align: right;\n",
       "    }\n",
       "</style>\n",
       "<table border=\"1\" class=\"dataframe\">\n",
       "  <thead>\n",
       "    <tr style=\"text-align: right;\">\n",
       "      <th></th>\n",
       "      <th>hearing_id</th>\n",
       "      <th>committee_id</th>\n",
       "      <th>subcommittee_id</th>\n",
       "      <th>hearing_title</th>\n",
       "      <th>is_appropriation</th>\n",
       "      <th>is_nomination</th>\n",
       "      <th>date</th>\n",
       "      <th>url</th>\n",
       "      <th>file</th>\n",
       "      <th>extent</th>\n",
       "    </tr>\n",
       "  </thead>\n",
       "  <tbody>\n",
       "    <tr>\n",
       "      <th>0</th>\n",
       "      <td>19196</td>\n",
       "      <td>354</td>\n",
       "      <td>354</td>\n",
       "      <td>AMERICAN FOOD AID: WHY REFORM MATTERS</td>\n",
       "      <td>NO</td>\n",
       "      <td>NO</td>\n",
       "      <td>4/15/2015</td>\n",
       "      <td>https://www.gpo.gov/fdsys/pkg/CHRG-114shrg9684...</td>\n",
       "      <td>114th Congress (2015 - 2016)_Senate Hearings_C...</td>\n",
       "      <td>77 p.</td>\n",
       "    </tr>\n",
       "    <tr>\n",
       "      <th>1</th>\n",
       "      <td>19197</td>\n",
       "      <td>354</td>\n",
       "      <td>354</td>\n",
       "      <td>THE ADMINISTRATION'S STRATEGY IN AFGHANISTAN</td>\n",
       "      <td>NO</td>\n",
       "      <td>NO</td>\n",
       "      <td>12/16/2015</td>\n",
       "      <td>https://www.gpo.gov/fdsys/pkg/CHRG-114shrg2094...</td>\n",
       "      <td>114th Congress (2015 - 2016)_Senate Hearings_C...</td>\n",
       "      <td>78 p.</td>\n",
       "    </tr>\n",
       "    <tr>\n",
       "      <th>2</th>\n",
       "      <td>19198</td>\n",
       "      <td>354</td>\n",
       "      <td>354</td>\n",
       "      <td>UNITED NATIONS PEACEKEEPING AND OPPORTUNITIES ...</td>\n",
       "      <td>NO</td>\n",
       "      <td>NO</td>\n",
       "      <td>12/9/2015</td>\n",
       "      <td>https://www.gpo.gov/fdsys/pkg/CHRG-114shrg2303...</td>\n",
       "      <td>114th Congress (2015 - 2016)_Senate Hearings_C...</td>\n",
       "      <td>67 p.</td>\n",
       "    </tr>\n",
       "    <tr>\n",
       "      <th>3</th>\n",
       "      <td>19199</td>\n",
       "      <td>354</td>\n",
       "      <td>354</td>\n",
       "      <td>THE FIGHT AGAINST ISIS: BUILDING THE COALITION...</td>\n",
       "      <td>NO</td>\n",
       "      <td>NO</td>\n",
       "      <td>2/25/2015</td>\n",
       "      <td>https://www.gpo.gov/fdsys/pkg/CHRG-114shrg9936...</td>\n",
       "      <td>114th Congress (2015 - 2016)_Senate Hearings_C...</td>\n",
       "      <td>47 p.</td>\n",
       "    </tr>\n",
       "    <tr>\n",
       "      <th>4</th>\n",
       "      <td>19200</td>\n",
       "      <td>354</td>\n",
       "      <td>354</td>\n",
       "      <td>ENDING MODERN SLAVERY: WHAT IS THE BEST WAY FO...</td>\n",
       "      <td>NO</td>\n",
       "      <td>NO</td>\n",
       "      <td>2/4/2015</td>\n",
       "      <td>https://www.gpo.gov/fdsys/pkg/CHRG-114shrg9625...</td>\n",
       "      <td>114th Congress (2015 - 2016)_Senate Hearings_C...</td>\n",
       "      <td>98 p.</td>\n",
       "    </tr>\n",
       "  </tbody>\n",
       "</table>\n",
       "</div>"
      ],
      "text/plain": [
       "   hearing_id  committee_id  subcommittee_id  \\\n",
       "0       19196           354              354   \n",
       "1       19197           354              354   \n",
       "2       19198           354              354   \n",
       "3       19199           354              354   \n",
       "4       19200           354              354   \n",
       "\n",
       "                                       hearing_title is_appropriation  \\\n",
       "0              AMERICAN FOOD AID: WHY REFORM MATTERS               NO   \n",
       "1       THE ADMINISTRATION'S STRATEGY IN AFGHANISTAN               NO   \n",
       "2  UNITED NATIONS PEACEKEEPING AND OPPORTUNITIES ...               NO   \n",
       "3  THE FIGHT AGAINST ISIS: BUILDING THE COALITION...               NO   \n",
       "4  ENDING MODERN SLAVERY: WHAT IS THE BEST WAY FO...               NO   \n",
       "\n",
       "  is_nomination        date  \\\n",
       "0            NO   4/15/2015   \n",
       "1            NO  12/16/2015   \n",
       "2            NO   12/9/2015   \n",
       "3            NO   2/25/2015   \n",
       "4            NO    2/4/2015   \n",
       "\n",
       "                                                 url  \\\n",
       "0  https://www.gpo.gov/fdsys/pkg/CHRG-114shrg9684...   \n",
       "1  https://www.gpo.gov/fdsys/pkg/CHRG-114shrg2094...   \n",
       "2  https://www.gpo.gov/fdsys/pkg/CHRG-114shrg2303...   \n",
       "3  https://www.gpo.gov/fdsys/pkg/CHRG-114shrg9936...   \n",
       "4  https://www.gpo.gov/fdsys/pkg/CHRG-114shrg9625...   \n",
       "\n",
       "                                                file extent  \n",
       "0  114th Congress (2015 - 2016)_Senate Hearings_C...  77 p.  \n",
       "1  114th Congress (2015 - 2016)_Senate Hearings_C...  78 p.  \n",
       "2  114th Congress (2015 - 2016)_Senate Hearings_C...  67 p.  \n",
       "3  114th Congress (2015 - 2016)_Senate Hearings_C...  47 p.  \n",
       "4  114th Congress (2015 - 2016)_Senate Hearings_C...  98 p.  "
      ]
     },
     "execution_count": 57,
     "metadata": {},
     "output_type": "execute_result"
    }
   ],
   "source": [
    "import pandas as pd\n",
    "hearings = pd.read_csv(\"csv/hearing.csv\")\n",
    "hearings.head()"
   ]
  },
  {
   "cell_type": "code",
   "execution_count": 58,
   "metadata": {},
   "outputs": [
    {
     "data": {
      "text/html": [
       "<div>\n",
       "<style scoped>\n",
       "    .dataframe tbody tr th:only-of-type {\n",
       "        vertical-align: middle;\n",
       "    }\n",
       "\n",
       "    .dataframe tbody tr th {\n",
       "        vertical-align: top;\n",
       "    }\n",
       "\n",
       "    .dataframe thead th {\n",
       "        text-align: right;\n",
       "    }\n",
       "</style>\n",
       "<table border=\"1\" class=\"dataframe\">\n",
       "  <thead>\n",
       "    <tr style=\"text-align: right;\">\n",
       "      <th></th>\n",
       "      <th>speech_id</th>\n",
       "      <th>previous_speech_id</th>\n",
       "      <th>subsequent_speech_id</th>\n",
       "      <th>hearing_id</th>\n",
       "      <th>conversation</th>\n",
       "      <th>text</th>\n",
       "    </tr>\n",
       "  </thead>\n",
       "  <tbody>\n",
       "    <tr>\n",
       "      <th>0</th>\n",
       "      <td>2923502</td>\n",
       "      <td>2923501</td>\n",
       "      <td>2923503</td>\n",
       "      <td>19196</td>\n",
       "      <td>1</td>\n",
       "      <td>The Foreign Relations Committee will come ...</td>\n",
       "    </tr>\n",
       "    <tr>\n",
       "      <th>1</th>\n",
       "      <td>2923503</td>\n",
       "      <td>2923502</td>\n",
       "      <td>2923504</td>\n",
       "      <td>19196</td>\n",
       "      <td>1</td>\n",
       "      <td>Senator Corker, first of all, thank you fo...</td>\n",
       "    </tr>\n",
       "    <tr>\n",
       "      <th>2</th>\n",
       "      <td>2923504</td>\n",
       "      <td>2923503</td>\n",
       "      <td>2923505</td>\n",
       "      <td>19196</td>\n",
       "      <td>1</td>\n",
       "      <td>Without objection._x000D_\\n_x000D_\\nthe ``...</td>\n",
       "    </tr>\n",
       "    <tr>\n",
       "      <th>3</th>\n",
       "      <td>2923505</td>\n",
       "      <td>2923504</td>\n",
       "      <td>2923506</td>\n",
       "      <td>19196</td>\n",
       "      <td>1</td>\n",
       "      <td>I am glad that these entities that have so...</td>\n",
       "    </tr>\n",
       "    <tr>\n",
       "      <th>4</th>\n",
       "      <td>2923506</td>\n",
       "      <td>2923505</td>\n",
       "      <td>2923507</td>\n",
       "      <td>19196</td>\n",
       "      <td>1</td>\n",
       "      <td>Thank you, Chairman Corker. I will be brie...</td>\n",
       "    </tr>\n",
       "  </tbody>\n",
       "</table>\n",
       "</div>"
      ],
      "text/plain": [
       "   speech_id  previous_speech_id  subsequent_speech_id  hearing_id  \\\n",
       "0    2923502             2923501               2923503       19196   \n",
       "1    2923503             2923502               2923504       19196   \n",
       "2    2923504             2923503               2923505       19196   \n",
       "3    2923505             2923504               2923506       19196   \n",
       "4    2923506             2923505               2923507       19196   \n",
       "\n",
       "   conversation                                               text  \n",
       "0             1      The Foreign Relations Committee will come ...  \n",
       "1             1      Senator Corker, first of all, thank you fo...  \n",
       "2             1      Without objection._x000D_\\n_x000D_\\nthe ``...  \n",
       "3             1      I am glad that these entities that have so...  \n",
       "4             1      Thank you, Chairman Corker. I will be brie...  "
      ]
     },
     "execution_count": 58,
     "metadata": {},
     "output_type": "execute_result"
    }
   ],
   "source": [
    "speech = pd.read_csv(\"csv/speech.csv\")\n",
    "speech.head()"
   ]
  },
  {
   "cell_type": "code",
   "execution_count": 59,
   "metadata": {},
   "outputs": [
    {
     "data": {
      "text/html": [
       "<div>\n",
       "<style scoped>\n",
       "    .dataframe tbody tr th:only-of-type {\n",
       "        vertical-align: middle;\n",
       "    }\n",
       "\n",
       "    .dataframe tbody tr th {\n",
       "        vertical-align: top;\n",
       "    }\n",
       "\n",
       "    .dataframe thead th {\n",
       "        text-align: right;\n",
       "    }\n",
       "</style>\n",
       "<table border=\"1\" class=\"dataframe\">\n",
       "  <thead>\n",
       "    <tr style=\"text-align: right;\">\n",
       "      <th></th>\n",
       "      <th>speech_id</th>\n",
       "      <th>person_id</th>\n",
       "      <th>surname</th>\n",
       "    </tr>\n",
       "  </thead>\n",
       "  <tbody>\n",
       "    <tr>\n",
       "      <th>0</th>\n",
       "      <td>2923502</td>\n",
       "      <td>18413</td>\n",
       "      <td>corker</td>\n",
       "    </tr>\n",
       "    <tr>\n",
       "      <th>1</th>\n",
       "      <td>2923503</td>\n",
       "      <td>182</td>\n",
       "      <td>cardin</td>\n",
       "    </tr>\n",
       "    <tr>\n",
       "      <th>2</th>\n",
       "      <td>2923504</td>\n",
       "      <td>18413</td>\n",
       "      <td>corker</td>\n",
       "    </tr>\n",
       "    <tr>\n",
       "      <th>3</th>\n",
       "      <td>2923505</td>\n",
       "      <td>18413</td>\n",
       "      <td>corker</td>\n",
       "    </tr>\n",
       "    <tr>\n",
       "      <th>4</th>\n",
       "      <td>2923506</td>\n",
       "      <td>27586</td>\n",
       "      <td>coons</td>\n",
       "    </tr>\n",
       "  </tbody>\n",
       "</table>\n",
       "</div>"
      ],
      "text/plain": [
       "   speech_id  person_id surname\n",
       "0    2923502      18413  corker\n",
       "1    2923503        182  cardin\n",
       "2    2923504      18413  corker\n",
       "3    2923505      18413  corker\n",
       "4    2923506      27586   coons"
      ]
     },
     "execution_count": 59,
     "metadata": {},
     "output_type": "execute_result"
    }
   ],
   "source": [
    "speaker = pd.read_csv(\"csv/speaker.csv\")\n",
    "speaker.head()"
   ]
  },
  {
   "cell_type": "code",
   "execution_count": 60,
   "metadata": {},
   "outputs": [
    {
     "data": {
      "text/html": [
       "<div>\n",
       "<style scoped>\n",
       "    .dataframe tbody tr th:only-of-type {\n",
       "        vertical-align: middle;\n",
       "    }\n",
       "\n",
       "    .dataframe tbody tr th {\n",
       "        vertical-align: top;\n",
       "    }\n",
       "\n",
       "    .dataframe thead th {\n",
       "        text-align: right;\n",
       "    }\n",
       "</style>\n",
       "<table border=\"1\" class=\"dataframe\">\n",
       "  <thead>\n",
       "    <tr style=\"text-align: right;\">\n",
       "      <th></th>\n",
       "      <th>Unnamed: 0</th>\n",
       "      <th>bio_guide_id</th>\n",
       "      <th>first_name</th>\n",
       "      <th>full_name</th>\n",
       "      <th>gpo_id</th>\n",
       "      <th>honorific</th>\n",
       "      <th>middle_name</th>\n",
       "      <th>person_id</th>\n",
       "      <th>person_id.1</th>\n",
       "      <th>surname</th>\n",
       "    </tr>\n",
       "  </thead>\n",
       "  <tbody>\n",
       "    <tr>\n",
       "      <th>0</th>\n",
       "      <td>0</td>\n",
       "      <td>NaN</td>\n",
       "      <td>hon.</td>\n",
       "      <td>hon. lamar s. smith</td>\n",
       "      <td>1075.0</td>\n",
       "      <td>NaN</td>\n",
       "      <td>lamar s.</td>\n",
       "      <td>1.0</td>\n",
       "      <td>NaN</td>\n",
       "      <td>smith</td>\n",
       "    </tr>\n",
       "    <tr>\n",
       "      <th>1</th>\n",
       "      <td>1</td>\n",
       "      <td>NaN</td>\n",
       "      <td>hon.</td>\n",
       "      <td>hon. lamar s. smith</td>\n",
       "      <td>1075.0</td>\n",
       "      <td>NaN</td>\n",
       "      <td>lamar s.</td>\n",
       "      <td>1.0</td>\n",
       "      <td>NaN</td>\n",
       "      <td>smith</td>\n",
       "    </tr>\n",
       "    <tr>\n",
       "      <th>2</th>\n",
       "      <td>2</td>\n",
       "      <td>NaN</td>\n",
       "      <td>hon.</td>\n",
       "      <td>hon. lamar s. smith</td>\n",
       "      <td>1075.0</td>\n",
       "      <td>NaN</td>\n",
       "      <td>lamar s.</td>\n",
       "      <td>1.0</td>\n",
       "      <td>NaN</td>\n",
       "      <td>smith</td>\n",
       "    </tr>\n",
       "    <tr>\n",
       "      <th>3</th>\n",
       "      <td>3</td>\n",
       "      <td>NaN</td>\n",
       "      <td>hon.</td>\n",
       "      <td>hon. lamar s. smith</td>\n",
       "      <td>1075.0</td>\n",
       "      <td>NaN</td>\n",
       "      <td>lamar s.</td>\n",
       "      <td>1.0</td>\n",
       "      <td>NaN</td>\n",
       "      <td>smith</td>\n",
       "    </tr>\n",
       "    <tr>\n",
       "      <th>4</th>\n",
       "      <td>4</td>\n",
       "      <td>NaN</td>\n",
       "      <td>hon.</td>\n",
       "      <td>hon. lamar s. smith</td>\n",
       "      <td>1075.0</td>\n",
       "      <td>NaN</td>\n",
       "      <td>lamar s.</td>\n",
       "      <td>1.0</td>\n",
       "      <td>NaN</td>\n",
       "      <td>smith</td>\n",
       "    </tr>\n",
       "  </tbody>\n",
       "</table>\n",
       "</div>"
      ],
      "text/plain": [
       "   Unnamed: 0  bio_guide_id first_name            full_name  gpo_id honorific  \\\n",
       "0           0           NaN       hon.  hon. lamar s. smith  1075.0       NaN   \n",
       "1           1           NaN       hon.  hon. lamar s. smith  1075.0       NaN   \n",
       "2           2           NaN       hon.  hon. lamar s. smith  1075.0       NaN   \n",
       "3           3           NaN       hon.  hon. lamar s. smith  1075.0       NaN   \n",
       "4           4           NaN       hon.  hon. lamar s. smith  1075.0       NaN   \n",
       "\n",
       "  middle_name  person_id  person_id.1 surname  \n",
       "0    lamar s.        1.0          NaN   smith  \n",
       "1    lamar s.        1.0          NaN   smith  \n",
       "2    lamar s.        1.0          NaN   smith  \n",
       "3    lamar s.        1.0          NaN   smith  \n",
       "4    lamar s.        1.0          NaN   smith  "
      ]
     },
     "execution_count": 60,
     "metadata": {},
     "output_type": "execute_result"
    }
   ],
   "source": [
    "person = pd.read_csv(\"csv/person.csv\")\n",
    "person.head()"
   ]
  },
  {
   "cell_type": "markdown",
   "metadata": {},
   "source": [
    "## But how do we create CSV files?\n",
    "There are two ways.\n",
    "\n",
    "### 1.2.1 Use the datascience module  [Recommended]\n",
    "First thing you need to do is install the datascience module on your terminal"
   ]
  },
  {
   "cell_type": "raw",
   "metadata": {},
   "source": [
    "pip install datascience"
   ]
  },
  {
   "cell_type": "code",
   "execution_count": 61,
   "metadata": {},
   "outputs": [],
   "source": [
    "import datascience as ds\n",
    "\n",
    "#Create a table with the desired column names\n",
    "columns = (\"hearing_id\", \"committee_id\", \"subcommittee_id\",\"hearing_title\", \"is_appropriation\", \"is_nomination\", \"date\",\"url\",\"file\",\"extent\")\n",
    "hearing_table = ds.Table(columns)\n",
    "\n",
    "#Add data to the table. Direct your parser to store data as an array and them add that array into your table.\n",
    "row = [\"1\", \"1\", \"1\", \"Example hearing\", \"1\", \"0\", \"2018/01/01\", \"someurl.gov\", None, None]\n",
    "hearing_table = hearing_table.with_row(row)\n",
    "\n",
    "#Save the data as a csv file\n",
    "hearing_table.to_csv(\"sample/hearing_csv_made_using_ds.csv\")\n"
   ]
  },
  {
   "cell_type": "code",
   "execution_count": 80,
   "metadata": {},
   "outputs": [],
   "source": [
    "mushrooms_table = ds.Table((\"mushroom_id\", \"mushroom_name\"))\n",
    "#mushrooms_table = mushrooms_table.with_row([\"1\", \"my mushroom\"])\n",
    "\n",
    "mushrooms_table = mushrooms_table.with_row([\"1\", None])\n",
    "\n",
    "mushrooms_table.to_csv(\"sample/mushroom.csv\")"
   ]
  },
  {
   "cell_type": "markdown",
   "metadata": {},
   "source": [
    "Read the file and see that we've added a new row into the csv file"
   ]
  },
  {
   "cell_type": "code",
   "execution_count": 81,
   "metadata": {},
   "outputs": [
    {
     "data": {
      "text/html": [
       "<div>\n",
       "<style scoped>\n",
       "    .dataframe tbody tr th:only-of-type {\n",
       "        vertical-align: middle;\n",
       "    }\n",
       "\n",
       "    .dataframe tbody tr th {\n",
       "        vertical-align: top;\n",
       "    }\n",
       "\n",
       "    .dataframe thead th {\n",
       "        text-align: right;\n",
       "    }\n",
       "</style>\n",
       "<table border=\"1\" class=\"dataframe\">\n",
       "  <thead>\n",
       "    <tr style=\"text-align: right;\">\n",
       "      <th></th>\n",
       "      <th>mushroom_id</th>\n",
       "      <th>mushroom_name</th>\n",
       "    </tr>\n",
       "  </thead>\n",
       "  <tbody>\n",
       "    <tr>\n",
       "      <th>0</th>\n",
       "      <td>1</td>\n",
       "      <td>NaN</td>\n",
       "    </tr>\n",
       "  </tbody>\n",
       "</table>\n",
       "</div>"
      ],
      "text/plain": [
       "   mushroom_id  mushroom_name\n",
       "0            1            NaN"
      ]
     },
     "execution_count": 81,
     "metadata": {},
     "output_type": "execute_result"
    }
   ],
   "source": [
    "person = pd.read_csv(\"sample/mushroom.csv\")\n",
    "person.head()"
   ]
  },
  {
   "cell_type": "markdown",
   "metadata": {},
   "source": [
    "### Quiz: What happens when you add an empty array to the table?"
   ]
  },
  {
   "cell_type": "code",
   "execution_count": 63,
   "metadata": {},
   "outputs": [],
   "source": [
    "# enter your answer here."
   ]
  },
  {
   "cell_type": "markdown",
   "metadata": {},
   "source": [
    "### 1.2.2 Using python's CSV writer"
   ]
  },
  {
   "cell_type": "code",
   "execution_count": 64,
   "metadata": {},
   "outputs": [],
   "source": [
    "import csv\n",
    "\n",
    "with open('sample/hearing_csv_made_using_csv.csv', 'w+') as csvfile:\n",
    "    writer = csv.writer(csvfile, delimiter=',', quotechar='\"', quoting=csv.QUOTE_MINIMAL)\n",
    "    columns = (\"hearing_id\", \"committee_id\", \"subcommittee_id\",\"hearing_title\", \"is_appropriation\", \"is_nomination\", \"date\",\"url\",\"file\",\"extent\")\n",
    "    writer.writerow(columns)\n",
    "    row = [\"1\", \"1\", \"1\", \"Second example hearing\", \"1\", \"0\", \"2018/01/01\", \"someurl.gov\", None, None]\n",
    "    writer.writerow(row)"
   ]
  },
  {
   "cell_type": "code",
   "execution_count": 65,
   "metadata": {},
   "outputs": [
    {
     "data": {
      "text/html": [
       "<div>\n",
       "<style scoped>\n",
       "    .dataframe tbody tr th:only-of-type {\n",
       "        vertical-align: middle;\n",
       "    }\n",
       "\n",
       "    .dataframe tbody tr th {\n",
       "        vertical-align: top;\n",
       "    }\n",
       "\n",
       "    .dataframe thead th {\n",
       "        text-align: right;\n",
       "    }\n",
       "</style>\n",
       "<table border=\"1\" class=\"dataframe\">\n",
       "  <thead>\n",
       "    <tr style=\"text-align: right;\">\n",
       "      <th></th>\n",
       "      <th>hearing_id</th>\n",
       "      <th>committee_id</th>\n",
       "      <th>subcommittee_id</th>\n",
       "      <th>hearing_title</th>\n",
       "      <th>is_appropriation</th>\n",
       "      <th>is_nomination</th>\n",
       "      <th>date</th>\n",
       "      <th>url</th>\n",
       "      <th>file</th>\n",
       "      <th>extent</th>\n",
       "    </tr>\n",
       "  </thead>\n",
       "  <tbody>\n",
       "    <tr>\n",
       "      <th>0</th>\n",
       "      <td>1</td>\n",
       "      <td>1</td>\n",
       "      <td>1</td>\n",
       "      <td>Second example hearing</td>\n",
       "      <td>1</td>\n",
       "      <td>0</td>\n",
       "      <td>2018/01/01</td>\n",
       "      <td>someurl.gov</td>\n",
       "      <td>NaN</td>\n",
       "      <td>NaN</td>\n",
       "    </tr>\n",
       "  </tbody>\n",
       "</table>\n",
       "</div>"
      ],
      "text/plain": [
       "   hearing_id  committee_id  subcommittee_id           hearing_title  \\\n",
       "0           1             1                1  Second example hearing   \n",
       "\n",
       "   is_appropriation  is_nomination        date          url  file  extent  \n",
       "0                 1              0  2018/01/01  someurl.gov   NaN     NaN  "
      ]
     },
     "execution_count": 65,
     "metadata": {},
     "output_type": "execute_result"
    }
   ],
   "source": [
    "person = pd.read_csv(\"sample/hearing_csv_made_using_csv.csv\")\n",
    "person.head()"
   ]
  },
  {
   "cell_type": "markdown",
   "metadata": {},
   "source": [
    "## 2. Now you have your CSV files, what next?\n",
    "it's now time to create your sqlite database.\n",
    "There are a couple of ways to do it.\n",
    "1. Using pandas which is recommended. We will cover this next.\n",
    "\n",
    "2. You can use the csvs-to-sqlite  library. Install it by running the following lines. then create your sqlite database as follows.\n"
   ]
  },
  {
   "cell_type": "raw",
   "metadata": {},
   "source": [
    "pip install csvs-to-sqlite \n",
    "csvs-to-sqlite hearing.csv  mydatabase.db\n",
    "csvs-to-sqlite speech.csv   mydatabase.db\n",
    "csvs-to-sqlite speaker.csv  mydatabase.db\n",
    "csvs-to-sqlite person.csv   mydatabase.db"
   ]
  },
  {
   "cell_type": "markdown",
   "metadata": {},
   "source": [
    "Let's see how we could use pandas to do this."
   ]
  },
  {
   "cell_type": "code",
   "execution_count": 1,
   "metadata": {},
   "outputs": [
    {
     "name": "stderr",
     "output_type": "stream",
     "text": [
      "/home/mevey/miniconda3/lib/python3.6/site-packages/pandas/core/generic.py:1362: UserWarning: The spaces in these column names will not be changed. In pandas versions < 0.14, spaces were converted to underscores.\n",
      "  chunksize=chunksize, dtype=dtype)\n"
     ]
    }
   ],
   "source": [
    "import sqlite3\n",
    "import pandas as pd\n",
    "\n",
    "connection = sqlite3.connect(\"mydatabase.sqlite\") # create your database here.\n",
    "\n",
    "hearing = pd.read_csv(\"csv/hearing.csv\")\n",
    "\n",
    "\n",
    "\n",
    "hearing.to_sql(\"hearing\", connection,  if_exists='replace', index=True)\n",
    "\n",
    "\n",
    "\n",
    "speech = pd.read_csv(\"csv/speech.csv\")\n",
    "speech.to_sql(\"speech\", connection, if_exists='replace', index=True)\n",
    "speaker = pd.read_csv(\"csv/speaker.csv\")\n",
    "speaker.to_sql(\"speaker\", connection, if_exists='replace', index=True)\n",
    "person = pd.read_csv(\"csv/person.csv\")\n",
    "person.to_sql(\"person\", connection, if_exists='replace', index=True)"
   ]
  },
  {
   "cell_type": "markdown",
   "metadata": {},
   "source": [
    "Now let's read  the contents we have saved.\n",
    "How many speakers are there?"
   ]
  },
  {
   "cell_type": "code",
   "execution_count": 92,
   "metadata": {},
   "outputs": [
    {
     "name": "stdout",
     "output_type": "stream",
     "text": [
      "[(3402,)]\n"
     ]
    }
   ],
   "source": [
    "cursor = connection.cursor()\n",
    "\n",
    "cursor.execute(\"SELECT count(*) FROM speaker;\")\n",
    "no_of_speakers = cursor.fetchall()\n",
    "print(no_of_speakers)\n",
    "#connection.close() # Always a good idea to close the connection"
   ]
  },
  {
   "cell_type": "markdown",
   "metadata": {},
   "source": [
    "### Quiz: How many hearings are there?"
   ]
  },
  {
   "cell_type": "code",
   "execution_count": 95,
   "metadata": {},
   "outputs": [
    {
     "name": "stdout",
     "output_type": "stream",
     "text": [
      "[(19196,), (19197,), (19198,), (19199,), (19200,), (19201,), (19202,), (19203,), (19204,), (19205,), (19206,), (19207,), (19208,), (19209,), (19210,), (19211,), (19212,), (19213,), (19214,), (19215,), (19216,), (19217,), (19218,), (19219,), (19220,), (19221,), (19222,), (19223,), (19224,), (19225,), (19226,), (19227,), (19228,), (19229,), (19230,), (19231,), (19232,), (19233,), (19234,), (19235,), (19236,), (19237,), (19238,), (19239,), (19240,), (19241,), (19242,), (19243,), (19244,), (19245,), (19246,)]\n"
     ]
    }
   ],
   "source": [
    "#Answer here\n",
    "connection = sqlite3.connect(\"newdatabase.sqlite\")\n",
    "cursor = connection.cursor()\n",
    "\n",
    "cursor.execute(\"SELECT hearing_id FROM hearing;\")\n",
    "no_of_hearings = cursor.fetchall()\n",
    "print(no_of_hearings)"
   ]
  },
  {
   "cell_type": "markdown",
   "metadata": {},
   "source": [
    "# Flask\n",
    "\n",
    "Flask is a lightweight framework fro writing web applications.It's called lightweight because it has little to no dependency on external libraries for it to function.\n",
    "You write the code in python and you can run your apps locally or on the server.\n",
    "\n",
    "To install flask, run the following on your terminal."
   ]
  },
  {
   "cell_type": "raw",
   "metadata": {},
   "source": [
    "pip install Flask"
   ]
  },
  {
   "cell_type": "markdown",
   "metadata": {},
   "source": [
    "## 3. Let's create a simple Flask app\n",
    "\n",
    "When coding and running flask, you can no longer use jupyter notebooks. So for this section, follow along the instructions to see how you can run an example of flask.\n",
    "\n",
    "Open the app.py file and you'll see the following code."
   ]
  },
  {
   "cell_type": "code",
   "execution_count": 97,
   "metadata": {},
   "outputs": [],
   "source": [
    "#!/usr/bin/env python\n",
    "\n",
    "import flask\n",
    "\n",
    "# Create the application.\n",
    "app = flask.Flask(__name__)\n",
    "\n",
    "@app.route('/')\n",
    "def index():\n",
    "    return flask.render_template('index.html')\n",
    "\n",
    "\n",
    "if __name__ == '__main__':\n",
    "    app.debug=True\n",
    "    app.run()"
   ]
  },
  {
   "cell_type": "markdown",
   "metadata": {},
   "source": [
    "Run"
   ]
  },
  {
   "cell_type": "raw",
   "metadata": {},
   "source": [
    "python app.py"
   ]
  },
  {
   "cell_type": "code",
   "execution_count": null,
   "metadata": {},
   "outputs": [],
   "source": [
    "Then load http://127.0.0.1:5000/on your browser "
   ]
  },
  {
   "cell_type": "markdown",
   "metadata": {},
   "source": [
    "### Quiz: What do you see when you load the link on your browser?"
   ]
  },
  {
   "cell_type": "code",
   "execution_count": null,
   "metadata": {},
   "outputs": [],
   "source": [
    "# answer"
   ]
  },
  {
   "cell_type": "markdown",
   "metadata": {},
   "source": [
    "## 4. Let's pull some data from the DB and access it from the browser"
   ]
  },
  {
   "cell_type": "markdown",
   "metadata": {},
   "source": [
    "Add this to the top of the app.py page"
   ]
  },
  {
   "cell_type": "code",
   "execution_count": null,
   "metadata": {},
   "outputs": [],
   "source": [
    "from flask import Response\n",
    "import sqlite3\n",
    "import json"
   ]
  },
  {
   "cell_type": "markdown",
   "metadata": {},
   "source": [
    "Add this in the body of the text after hello function"
   ]
  },
  {
   "cell_type": "code",
   "execution_count": null,
   "metadata": {},
   "outputs": [],
   "source": [
    "@app.route('/speakers')\n",
    "def speakers():\n",
    "    connection = sqlite3.connect(\"mydatabase.sqlite\") \n",
    "    cursor = connection.cursor()\n",
    "    cursor.execute(\"SELECT surname FROM speaker;\")\n",
    "    speakers = cursor.fetchall()\n",
    "    return Response(json.dumps(speakers), mimetype='application/json')"
   ]
  },
  {
   "cell_type": "markdown",
   "metadata": {},
   "source": [
    "### Quiz: What is the role of @app.route?"
   ]
  },
  {
   "cell_type": "code",
   "execution_count": null,
   "metadata": {},
   "outputs": [],
   "source": [
    "#answer"
   ]
  }
 ],
 "metadata": {
  "kernelspec": {
   "display_name": "Python 3",
   "language": "python",
   "name": "python3"
  },
  "language_info": {
   "codemirror_mode": {
    "name": "ipython",
    "version": 3
   },
   "file_extension": ".py",
   "mimetype": "text/x-python",
   "name": "python",
   "nbconvert_exporter": "python",
   "pygments_lexer": "ipython3",
   "version": "3.6.2"
  }
 },
 "nbformat": 4,
 "nbformat_minor": 2
}
